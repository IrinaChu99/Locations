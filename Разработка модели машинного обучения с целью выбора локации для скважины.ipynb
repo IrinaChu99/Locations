{
 "cells": [
  {
   "cell_type": "markdown",
   "metadata": {},
   "source": [
    "# Разработка модели для определения региона с наибольшей прибыльностью добычи нефти"
   ]
  },
  {
   "cell_type": "markdown",
   "metadata": {},
   "source": [
    "# Описание проекта\n",
    "\n",
    "Построение модели машинного обучения для определения региона с наибольшей прибыльностью добычи нефти может помочь оптимизировать инвестиционные решения и увеличить рентабельность добычи нефти. Правильное использование машинного обучения позволит предсказывать прибыльность добычи нефти с большей точностью и с учетом всех релевантных факторов.\n",
    "\n",
    "В добывающей компании «Лукойл» нужно решить, где бурить новую скважину.\n",
    "Предоставлены пробы нефти в трёх регионах: в каждом 10 000 месторождений, где измерили качество нефти и объём её запасов. Необходимо построить модель машинного обучения, которая поможет определить регион, где добыча принесёт наибольшую прибыль. Проанализировать возможную прибыль и риски техникой *Bootstrap.*\n",
    "\n",
    "Шаги для выбора локации:\n",
    "\n",
    "- В избранном регионе ищут месторождения, для каждого определяют значения признаков;\n",
    "- Строят модель и оценивают объём запасов;\n",
    "- Выбирают месторождения с самым высокими оценками значений. Количество месторождений зависит от бюджета компании и стоимости разработки одной скважины;\n",
    "- Прибыль равна суммарной прибыли отобранных месторождений."
   ]
  },
  {
   "cell_type": "markdown",
   "metadata": {},
   "source": [
    "# Условия заказчика для решения задачи\n",
    "\n",
    "- Для обучения модели подходит только линейная регрессия (остальные — недостаточно предсказуемые).\n",
    "- При разведке региона исследуют 500 точек, из которых с помощью машинного обучения выбирают 200 лучших для разработки.\n",
    "- Бюджет на разработку скважин в регионе — 10 млрд рублей.\n",
    "- При нынешних ценах один баррель сырья приносит 450 рублей дохода. Доход с каждой единицы продукта составляет 450 тыс. рублей, поскольку объём указан в тысячах баррелей.\n",
    "- После оценки рисков нужно оставить лишь те регионы, в которых вероятность убытков меньше 2.5%. Среди них выбирают регион с наибольшей средней прибылью."
   ]
  },
  {
   "cell_type": "markdown",
   "metadata": {},
   "source": [
    "# Описание данных\n",
    "\n",
    "- `/datasets/geo_data_0.csv`\n",
    "- `/datasets/geo_data_1.csv`\n",
    "- `/datasets/geo_data_2.csv`\n",
    "- `id` — уникальный идентификатор скважины;\n",
    "- `f0, f1, f2` — три признака точек (неважно, что они означают, но сами признаки значимы);\n",
    "- `product` — объём запасов в скважине (тыс. баррелей)."
   ]
  },
  {
   "cell_type": "markdown",
   "metadata": {},
   "source": [
    "# План работы \n",
    "\n",
    "**Шаг 1. Загрузка и подготовка данных**\n",
    "\n",
    "Загрузить и подготовить данные.\n",
    "\n",
    "**Шаг 2. Обучение и проверка модели**\n",
    "\n",
    "Обучить и проверить модель для каждого региона:\n",
    "- Разбить данные на обучающую и валидационную выборки в соотношении 75:25.\n",
    "- Обучить модель и сделать предсказания на валидационной выборке.\n",
    "- Сохранить предсказания и правильные ответы на валидационной выборке.\n",
    "- Напечатать на экране средний запас предсказанного сырья и RMSE модели.\n",
    "- Проанализировать результаты.\n",
    "\n",
    "**Шаг 3. Подготовка к расчёту прибыли**\n",
    "\n",
    "1. Подготовить данные к расчёту прибыли:\n",
    "- Все ключевые значения для расчётов сохранить в отдельных переменных.\n",
    "- Рассчитать достаточный объём сырья для безубыточной разработки новой скважины. Сравнить полученный объём сырья со средним запасом в каждом регионе. \n",
    "- Написать выводы по этапу подготовки расчёта прибыли.\n",
    "\n",
    "2. Написать функцию для расчёта прибыли по выбранным скважинам и предсказаниям модели:\n",
    "- Выбрать скважины с максимальными значениями предсказаний. \n",
    "- Просуммировать целевое значение объёма сырья, соответствующее этим предсказаниям.\n",
    "- Рассчитать прибыль для полученного объёма сырья.\n",
    "\n",
    "**Шаг 4. Расчёт прибыли и рисков**\n",
    "\n",
    "Посчитать риски и прибыль для каждого региона:\n",
    "- Применить технику Bootstrap с 1000 выборок, чтобы найти распределение прибыли.\n",
    "- Найти среднюю прибыль, 95%-й доверительный интервал и риск убытков. Убыток — это отрицательная прибыль.\n",
    "- Написать выводы: предложить регион для разработки скважин и обосновать выбор.\n",
    "\n",
    "**Шаг 5. Оформление выводов**\n"
   ]
  },
  {
   "cell_type": "markdown",
   "metadata": {},
   "source": [
    "## Загрузка и подготовка данных"
   ]
  },
  {
   "cell_type": "markdown",
   "metadata": {},
   "source": [
    "На данном шаге нам необходимо загрузить необходимые библиотеки, загрузить, ознакомится с данными и выполнить подготовку данных."
   ]
  },
  {
   "cell_type": "markdown",
   "metadata": {},
   "source": [
    "### Импортируем необходимые библиотеки"
   ]
  },
  {
   "cell_type": "code",
   "execution_count": 1,
   "metadata": {},
   "outputs": [
    {
     "name": "stderr",
     "output_type": "stream",
     "text": [
      "\n",
      "[notice] A new release of pip is available: 23.2.1 -> 23.3.2\n",
      "[notice] To update, run: python.exe -m pip install --upgrade pip\n",
      "\n",
      "[notice] A new release of pip is available: 23.2.1 -> 23.3.2\n",
      "[notice] To update, run: python.exe -m pip install --upgrade pip\n"
     ]
    }
   ],
   "source": [
    "!pip install -q -U scikit-learn\n",
    "!pip install -q phik\n",
    "\n",
    "import pandas as pd\n",
    "import numpy as np\n",
    "import seaborn as sns\n",
    "import matplotlib.pyplot as plt\n",
    "import scipy.stats as st\n",
    "import sklearn\n",
    "import phik\n",
    "\n",
    "import warnings\n",
    "warnings.filterwarnings('ignore')\n",
    "\n",
    "# Задаем константы\n",
    "RANDOM_STATE = 12345\n",
    "TEST_SIZE = 0.25\n",
    "\n",
    "# загружаем нужные модели\n",
    "from sklearn.linear_model import LinearRegression\n",
    "\n",
    "# загружаем функцию для разделения данных на выборки\n",
    "from sklearn.model_selection import train_test_split\n",
    "\n",
    "# импортируем функции для работы с метриками\n",
    "from sklearn.metrics import mean_squared_error, r2_score"
   ]
  },
  {
   "cell_type": "markdown",
   "metadata": {},
   "source": [
    "### Загрузим данные в датафреймы pandas."
   ]
  },
  {
   "cell_type": "code",
   "execution_count": 2,
   "metadata": {},
   "outputs": [],
   "source": [
    "try:\n",
    "    data_0 = pd.read_csv('geo_data_0.csv', decimal=\",\")\n",
    "    data_1 = pd.read_csv('geo_data_1.csv', decimal=\",\")\n",
    "    data_2 = pd.read_csv('geo_data_2.csv', decimal=\",\")\n",
    "except:\n",
    "    data_0 = pd.read_csv('https://code.s3.yandex.net/datasets/geo_data_0.csv', encoding='utf8', decimal=\",\")\n",
    "    data_1 = pd.read_csv('https://code.s3.yandex.net/datasets/geo_data_1.csv', encoding='utf8', decimal=\",\")\n",
    "    data_2 = pd.read_csv('https://code.s3.yandex.net/datasets/geo_data_2.csv', encoding='utf8', decimal=\",\")"
   ]
  },
  {
   "cell_type": "markdown",
   "metadata": {},
   "source": [
    "### Ознакомимся с данными"
   ]
  },
  {
   "cell_type": "code",
   "execution_count": 3,
   "metadata": {},
   "outputs": [
    {
     "data": {
      "text/html": [
       "<div>\n",
       "<style scoped>\n",
       "    .dataframe tbody tr th:only-of-type {\n",
       "        vertical-align: middle;\n",
       "    }\n",
       "\n",
       "    .dataframe tbody tr th {\n",
       "        vertical-align: top;\n",
       "    }\n",
       "\n",
       "    .dataframe thead th {\n",
       "        text-align: right;\n",
       "    }\n",
       "</style>\n",
       "<table border=\"1\" class=\"dataframe\">\n",
       "  <thead>\n",
       "    <tr style=\"text-align: right;\">\n",
       "      <th></th>\n",
       "      <th>id</th>\n",
       "      <th>f0</th>\n",
       "      <th>f1</th>\n",
       "      <th>f2</th>\n",
       "      <th>product</th>\n",
       "    </tr>\n",
       "  </thead>\n",
       "  <tbody>\n",
       "    <tr>\n",
       "      <th>0</th>\n",
       "      <td>txEyH</td>\n",
       "      <td>0.7057449842080644</td>\n",
       "      <td>-0.4978225001976334</td>\n",
       "      <td>1.22116994843607</td>\n",
       "      <td>105.28006184349583</td>\n",
       "    </tr>\n",
       "    <tr>\n",
       "      <th>1</th>\n",
       "      <td>2acmU</td>\n",
       "      <td>1.3347112926051892</td>\n",
       "      <td>-0.3401642528583136</td>\n",
       "      <td>4.3650803324282</td>\n",
       "      <td>73.03775026515737</td>\n",
       "    </tr>\n",
       "    <tr>\n",
       "      <th>2</th>\n",
       "      <td>409Wp</td>\n",
       "      <td>1.0227322634721168</td>\n",
       "      <td>0.15199044457022945</td>\n",
       "      <td>1.4199262386740652</td>\n",
       "      <td>85.26564713099945</td>\n",
       "    </tr>\n",
       "  </tbody>\n",
       "</table>\n",
       "</div>"
      ],
      "text/plain": [
       "      id                  f0                   f1                  f2  \\\n",
       "0  txEyH  0.7057449842080644  -0.4978225001976334    1.22116994843607   \n",
       "1  2acmU  1.3347112926051892  -0.3401642528583136     4.3650803324282   \n",
       "2  409Wp  1.0227322634721168  0.15199044457022945  1.4199262386740652   \n",
       "\n",
       "              product  \n",
       "0  105.28006184349583  \n",
       "1   73.03775026515737  \n",
       "2   85.26564713099945  "
      ]
     },
     "metadata": {},
     "output_type": "display_data"
    },
    {
     "name": "stdout",
     "output_type": "stream",
     "text": [
      "<class 'pandas.core.frame.DataFrame'>\n",
      "RangeIndex: 100000 entries, 0 to 99999\n",
      "Data columns (total 5 columns):\n",
      " #   Column   Non-Null Count   Dtype \n",
      "---  ------   --------------   ----- \n",
      " 0   id       100000 non-null  object\n",
      " 1   f0       100000 non-null  object\n",
      " 2   f1       100000 non-null  object\n",
      " 3   f2       100000 non-null  object\n",
      " 4   product  100000 non-null  object\n",
      "dtypes: object(5)\n",
      "memory usage: 3.8+ MB\n",
      "Количество явных дубликатов в датасете data_0: 0\n"
     ]
    }
   ],
   "source": [
    "display(data_0.head(3))\n",
    "data_0.info()\n",
    "print('Количество явных дубликатов в датасете data_0:', data_0.duplicated().sum())"
   ]
  },
  {
   "cell_type": "code",
   "execution_count": 4,
   "metadata": {},
   "outputs": [
    {
     "data": {
      "text/html": [
       "<div>\n",
       "<style scoped>\n",
       "    .dataframe tbody tr th:only-of-type {\n",
       "        vertical-align: middle;\n",
       "    }\n",
       "\n",
       "    .dataframe tbody tr th {\n",
       "        vertical-align: top;\n",
       "    }\n",
       "\n",
       "    .dataframe thead th {\n",
       "        text-align: right;\n",
       "    }\n",
       "</style>\n",
       "<table border=\"1\" class=\"dataframe\">\n",
       "  <thead>\n",
       "    <tr style=\"text-align: right;\">\n",
       "      <th></th>\n",
       "      <th>id</th>\n",
       "      <th>f0</th>\n",
       "      <th>f1</th>\n",
       "      <th>f2</th>\n",
       "      <th>product</th>\n",
       "    </tr>\n",
       "  </thead>\n",
       "  <tbody>\n",
       "    <tr>\n",
       "      <th>0</th>\n",
       "      <td>kBEdx</td>\n",
       "      <td>-15.00134818249185</td>\n",
       "      <td>-8.275999947188001</td>\n",
       "      <td>-0.005876013693320655</td>\n",
       "      <td>3.179102583207246</td>\n",
       "    </tr>\n",
       "    <tr>\n",
       "      <th>1</th>\n",
       "      <td>62mP7</td>\n",
       "      <td>14.272087811011147</td>\n",
       "      <td>-3.47508321506002</td>\n",
       "      <td>0.9991827365665829</td>\n",
       "      <td>26.95326103153969</td>\n",
       "    </tr>\n",
       "    <tr>\n",
       "      <th>2</th>\n",
       "      <td>vyE1P</td>\n",
       "      <td>6.263187352448809</td>\n",
       "      <td>-5.948385788285711</td>\n",
       "      <td>5.001160160764809</td>\n",
       "      <td>134.76630515769844</td>\n",
       "    </tr>\n",
       "  </tbody>\n",
       "</table>\n",
       "</div>"
      ],
      "text/plain": [
       "      id                  f0                  f1                     f2  \\\n",
       "0  kBEdx  -15.00134818249185  -8.275999947188001  -0.005876013693320655   \n",
       "1  62mP7  14.272087811011147   -3.47508321506002     0.9991827365665829   \n",
       "2  vyE1P   6.263187352448809  -5.948385788285711      5.001160160764809   \n",
       "\n",
       "              product  \n",
       "0   3.179102583207246  \n",
       "1   26.95326103153969  \n",
       "2  134.76630515769844  "
      ]
     },
     "metadata": {},
     "output_type": "display_data"
    },
    {
     "name": "stdout",
     "output_type": "stream",
     "text": [
      "<class 'pandas.core.frame.DataFrame'>\n",
      "RangeIndex: 100000 entries, 0 to 99999\n",
      "Data columns (total 5 columns):\n",
      " #   Column   Non-Null Count   Dtype \n",
      "---  ------   --------------   ----- \n",
      " 0   id       100000 non-null  object\n",
      " 1   f0       100000 non-null  object\n",
      " 2   f1       100000 non-null  object\n",
      " 3   f2       100000 non-null  object\n",
      " 4   product  100000 non-null  object\n",
      "dtypes: object(5)\n",
      "memory usage: 3.8+ MB\n",
      "Количество явных дубликатов в датасете data_1: 0\n"
     ]
    }
   ],
   "source": [
    "display(data_1.head(3))\n",
    "data_1.info()\n",
    "print('Количество явных дубликатов в датасете data_1:', data_1.duplicated().sum())"
   ]
  },
  {
   "cell_type": "code",
   "execution_count": 5,
   "metadata": {},
   "outputs": [
    {
     "data": {
      "text/html": [
       "<div>\n",
       "<style scoped>\n",
       "    .dataframe tbody tr th:only-of-type {\n",
       "        vertical-align: middle;\n",
       "    }\n",
       "\n",
       "    .dataframe tbody tr th {\n",
       "        vertical-align: top;\n",
       "    }\n",
       "\n",
       "    .dataframe thead th {\n",
       "        text-align: right;\n",
       "    }\n",
       "</style>\n",
       "<table border=\"1\" class=\"dataframe\">\n",
       "  <thead>\n",
       "    <tr style=\"text-align: right;\">\n",
       "      <th></th>\n",
       "      <th>id</th>\n",
       "      <th>f0</th>\n",
       "      <th>f1</th>\n",
       "      <th>f2</th>\n",
       "      <th>product</th>\n",
       "    </tr>\n",
       "  </thead>\n",
       "  <tbody>\n",
       "    <tr>\n",
       "      <th>0</th>\n",
       "      <td>fwXo0</td>\n",
       "      <td>-1.1469870984179529</td>\n",
       "      <td>0.9633279217162892</td>\n",
       "      <td>-0.8289649221710994</td>\n",
       "      <td>27.758673230730036</td>\n",
       "    </tr>\n",
       "    <tr>\n",
       "      <th>1</th>\n",
       "      <td>WJtFt</td>\n",
       "      <td>0.2627779016539684</td>\n",
       "      <td>0.2698389572803021</td>\n",
       "      <td>-2.530186515492004</td>\n",
       "      <td>56.06969663239464</td>\n",
       "    </tr>\n",
       "    <tr>\n",
       "      <th>2</th>\n",
       "      <td>ovLUW</td>\n",
       "      <td>0.19458728165865746</td>\n",
       "      <td>0.2890350017576741</td>\n",
       "      <td>-5.586432770903118</td>\n",
       "      <td>62.87191004763475</td>\n",
       "    </tr>\n",
       "  </tbody>\n",
       "</table>\n",
       "</div>"
      ],
      "text/plain": [
       "      id                   f0                  f1                   f2  \\\n",
       "0  fwXo0  -1.1469870984179529  0.9633279217162892  -0.8289649221710994   \n",
       "1  WJtFt   0.2627779016539684  0.2698389572803021   -2.530186515492004   \n",
       "2  ovLUW  0.19458728165865746  0.2890350017576741   -5.586432770903118   \n",
       "\n",
       "              product  \n",
       "0  27.758673230730036  \n",
       "1   56.06969663239464  \n",
       "2   62.87191004763475  "
      ]
     },
     "metadata": {},
     "output_type": "display_data"
    },
    {
     "name": "stdout",
     "output_type": "stream",
     "text": [
      "<class 'pandas.core.frame.DataFrame'>\n",
      "RangeIndex: 100000 entries, 0 to 99999\n",
      "Data columns (total 5 columns):\n",
      " #   Column   Non-Null Count   Dtype \n",
      "---  ------   --------------   ----- \n",
      " 0   id       100000 non-null  object\n",
      " 1   f0       100000 non-null  object\n",
      " 2   f1       100000 non-null  object\n",
      " 3   f2       100000 non-null  object\n",
      " 4   product  100000 non-null  object\n",
      "dtypes: object(5)\n",
      "memory usage: 3.8+ MB\n",
      "Количество явных дубликатов в датасете data_2: 0\n"
     ]
    }
   ],
   "source": [
    "display(data_2.head(3))\n",
    "data_2.info()\n",
    "print('Количество явных дубликатов в датасете data_2:', data_2.duplicated().sum())"
   ]
  },
  {
   "cell_type": "markdown",
   "metadata": {},
   "source": [
    "На этапе ознакомления с данными выявлены неправильные типы у данных."
   ]
  },
  {
   "cell_type": "markdown",
   "metadata": {},
   "source": [
    "#### Преобразуем данные в нужные типы"
   ]
  },
  {
   "cell_type": "code",
   "execution_count": 6,
   "metadata": {},
   "outputs": [],
   "source": [
    "for i in data_0[['f0', 'f1', 'f2', 'product']]:\n",
    "    data_0[i] = data_0[i].astype('float64')"
   ]
  },
  {
   "cell_type": "code",
   "execution_count": 7,
   "metadata": {},
   "outputs": [],
   "source": [
    "for i in data_1[['f0', 'f1', 'f2', 'product']]:\n",
    "    data_1[i] = data_1[i].astype('float64')"
   ]
  },
  {
   "cell_type": "code",
   "execution_count": 8,
   "metadata": {},
   "outputs": [],
   "source": [
    "for i in data_2[['f0', 'f1', 'f2', 'product']]:\n",
    "    data_2[i] = data_2[i].astype('float64')"
   ]
  },
  {
   "cell_type": "markdown",
   "metadata": {},
   "source": [
    "Данные с плавающей точкой типа object были заменены на данные с плавающей точкой типа float64."
   ]
  },
  {
   "cell_type": "markdown",
   "metadata": {},
   "source": [
    "#### Посмотрим на распределение данных"
   ]
  },
  {
   "cell_type": "code",
   "execution_count": 9,
   "metadata": {},
   "outputs": [
    {
     "data": {
      "image/png": "[encoded data removed]",
      "text/plain": [
       "<Figure size 720x288 with 1 Axes>"
      ]
     },
     "metadata": {
      "needs_background": "light"
     },
     "output_type": "display_data"
    },
    {
     "data": {
      "image/png": "[encoded data removed]",
      "text/plain": [
       "<Figure size 720x288 with 1 Axes>"
      ]
     },
     "metadata": {
      "needs_background": "light"
     },
     "output_type": "display_data"
    },
    {
     "data": {
      "image/png": "[encoded data removed]",
      "text/plain": [
       "<Figure size 720x288 with 1 Axes>"
      ]
     },
     "metadata": {
      "needs_background": "light"
     },
     "output_type": "display_data"
    },
    {
     "data": {
      "image/png": "[encoded data removed]",
      "text/plain": [
       "<Figure size 720x288 with 1 Axes>"
      ]
     },
     "metadata": {
      "needs_background": "light"
     },
     "output_type": "display_data"
    }
   ],
   "source": [
    "for i in data_0[['f0', 'f1', 'f2', 'product']]:\n",
    "    data_0[i].plot(kind='hist', grid=True, title= f'Распределение признака {i}', bins=25, color='green', figsize=(10,4));\n",
    "    plt.xlabel(i)\n",
    "    plt.ylabel('Количество')\n",
    "    plt.show()"
   ]
  },
  {
   "cell_type": "code",
   "execution_count": 10,
   "metadata": {},
   "outputs": [
    {
     "data": {
      "image/png": "[encoded data removed]",
      "text/plain": [
       "<Figure size 720x288 with 1 Axes>"
      ]
     },
     "metadata": {
      "needs_background": "light"
     },
     "output_type": "display_data"
    },
    {
     "data": {
      "image/png": "[encoded data removed]",
      "text/plain": [
       "<Figure size 720x288 with 1 Axes>"
      ]
     },
     "metadata": {
      "needs_background": "light"
     },
     "output_type": "display_data"
    }
   ],
   "source": [
    "for i in data_1[['f0', 'f1']]:\n",
    "    data_1[i].plot(kind='hist', grid=True, title= f'Распределение признака {i}', bins=25, color='red', figsize=(10,4));\n",
    "    plt.xlabel(i)\n",
    "    plt.ylabel('Количество')\n",
    "    plt.show()"
   ]
  },
  {
   "cell_type": "code",
   "execution_count": 11,
   "metadata": {},
   "outputs": [
    {
     "data": {
      "image/png": "[encoded data removed]",
      "text/plain": [
       "<Figure size 720x288 with 1 Axes>"
      ]
     },
     "metadata": {
      "needs_background": "light"
     },
     "output_type": "display_data"
    },
    {
     "data": {
      "image/png": "[encoded data removed]",
      "text/plain": [
       "<Figure size 720x288 with 1 Axes>"
      ]
     },
     "metadata": {
      "needs_background": "light"
     },
     "output_type": "display_data"
    }
   ],
   "source": [
    "for i in data_1[['f2', 'product']]:\n",
    "    data_1[i].plot(kind='hist', grid=True, title= f'Распределение признака {i}', bins=10, color='red', figsize=(10,4));\n",
    "    plt.xlabel(i)\n",
    "    plt.ylabel('Количество')\n",
    "    plt.show()"
   ]
  },
  {
   "cell_type": "code",
   "execution_count": 12,
   "metadata": {},
   "outputs": [
    {
     "data": {
      "image/png": "[encoded data removed]",
      "text/plain": [
       "<Figure size 720x288 with 1 Axes>"
      ]
     },
     "metadata": {
      "needs_background": "light"
     },
     "output_type": "display_data"
    },
    {
     "data": {
      "image/png": "[encoded data removed]",
      "text/plain": [
       "<Figure size 720x288 with 1 Axes>"
      ]
     },
     "metadata": {
      "needs_background": "light"
     },
     "output_type": "display_data"
    },
    {
     "data": {
      "image/png": "[encoded data removed]",
      "text/plain": [
       "<Figure size 720x288 with 1 Axes>"
      ]
     },
     "metadata": {
      "needs_background": "light"
     },
     "output_type": "display_data"
    },
    {
     "data": {
      "image/png": "[encoded data removed]",
      "text/plain": [
       "<Figure size 720x288 with 1 Axes>"
      ]
     },
     "metadata": {
      "needs_background": "light"
     },
     "output_type": "display_data"
    }
   ],
   "source": [
    "for i in data_2[['f0', 'f1', 'f2', 'product']]:\n",
    "    data_2[i].plot(kind='hist', grid=True, title= f'Распределение признака {i}', bins=25, color='blue', figsize=(10,4));\n",
    "    plt.xlabel(i)\n",
    "    plt.ylabel('Количество')\n",
    "    plt.show()"
   ]
  },
  {
   "cell_type": "markdown",
   "metadata": {},
   "source": [
    "По графикам распределения признаков, можно сказать, что большинство признаков распределены симметрично."
   ]
  },
  {
   "cell_type": "markdown",
   "metadata": {},
   "source": [
    "#### Проверим данные на наличие выбросов и аномалий"
   ]
  },
  {
   "cell_type": "markdown",
   "metadata": {},
   "source": [
    "Построим таблицу описательной статистики признаков датасета `data_0`"
   ]
  },
  {
   "cell_type": "code",
   "execution_count": 13,
   "metadata": {},
   "outputs": [
    {
     "data": {
      "text/html": [
       "<div>\n",
       "<style scoped>\n",
       "    .dataframe tbody tr th:only-of-type {\n",
       "        vertical-align: middle;\n",
       "    }\n",
       "\n",
       "    .dataframe tbody tr th {\n",
       "        vertical-align: top;\n",
       "    }\n",
       "\n",
       "    .dataframe thead th {\n",
       "        text-align: right;\n",
       "    }\n",
       "</style>\n",
       "<table border=\"1\" class=\"dataframe\">\n",
       "  <thead>\n",
       "    <tr style=\"text-align: right;\">\n",
       "      <th></th>\n",
       "      <th>f0</th>\n",
       "      <th>f1</th>\n",
       "      <th>f2</th>\n",
       "      <th>product</th>\n",
       "    </tr>\n",
       "  </thead>\n",
       "  <tbody>\n",
       "    <tr>\n",
       "      <th>count</th>\n",
       "      <td>100000.000000</td>\n",
       "      <td>100000.000000</td>\n",
       "      <td>100000.000000</td>\n",
       "      <td>100000.000000</td>\n",
       "    </tr>\n",
       "    <tr>\n",
       "      <th>mean</th>\n",
       "      <td>0.500419</td>\n",
       "      <td>0.250143</td>\n",
       "      <td>2.502647</td>\n",
       "      <td>92.500000</td>\n",
       "    </tr>\n",
       "    <tr>\n",
       "      <th>std</th>\n",
       "      <td>0.871832</td>\n",
       "      <td>0.504433</td>\n",
       "      <td>3.248248</td>\n",
       "      <td>44.288691</td>\n",
       "    </tr>\n",
       "    <tr>\n",
       "      <th>min</th>\n",
       "      <td>-1.408605</td>\n",
       "      <td>-0.848218</td>\n",
       "      <td>-12.088328</td>\n",
       "      <td>0.000000</td>\n",
       "    </tr>\n",
       "    <tr>\n",
       "      <th>25%</th>\n",
       "      <td>-0.072580</td>\n",
       "      <td>-0.200881</td>\n",
       "      <td>0.287748</td>\n",
       "      <td>56.497507</td>\n",
       "    </tr>\n",
       "    <tr>\n",
       "      <th>50%</th>\n",
       "      <td>0.502360</td>\n",
       "      <td>0.250252</td>\n",
       "      <td>2.515969</td>\n",
       "      <td>91.849972</td>\n",
       "    </tr>\n",
       "    <tr>\n",
       "      <th>75%</th>\n",
       "      <td>1.073581</td>\n",
       "      <td>0.700646</td>\n",
       "      <td>4.715088</td>\n",
       "      <td>128.564089</td>\n",
       "    </tr>\n",
       "    <tr>\n",
       "      <th>max</th>\n",
       "      <td>2.362331</td>\n",
       "      <td>1.343769</td>\n",
       "      <td>16.003790</td>\n",
       "      <td>185.364347</td>\n",
       "    </tr>\n",
       "  </tbody>\n",
       "</table>\n",
       "</div>"
      ],
      "text/plain": [
       "                  f0             f1             f2        product\n",
       "count  100000.000000  100000.000000  100000.000000  100000.000000\n",
       "mean        0.500419       0.250143       2.502647      92.500000\n",
       "std         0.871832       0.504433       3.248248      44.288691\n",
       "min        -1.408605      -0.848218     -12.088328       0.000000\n",
       "25%        -0.072580      -0.200881       0.287748      56.497507\n",
       "50%         0.502360       0.250252       2.515969      91.849972\n",
       "75%         1.073581       0.700646       4.715088     128.564089\n",
       "max         2.362331       1.343769      16.003790     185.364347"
      ]
     },
     "execution_count": 13,
     "metadata": {},
     "output_type": "execute_result"
    }
   ],
   "source": [
    "data_0.describe()"
   ]
  },
  {
   "cell_type": "markdown",
   "metadata": {},
   "source": [
    "Построим график \"ящики с усами\", который покажет выбросы и основные статистики данных (квартили)"
   ]
  },
  {
   "cell_type": "code",
   "execution_count": 14,
   "metadata": {},
   "outputs": [
    {
     "data": {
      "image/png": "[encoded data removed]",
      "text/plain": [
       "<Figure size 1440x360 with 4 Axes>"
      ]
     },
     "metadata": {
      "needs_background": "light"
     },
     "output_type": "display_data"
    }
   ],
   "source": [
    "plt.rcParams.update({'font.size': 9})\n",
    "fig, axes = plt.subplots(nrows=1, ncols=4, figsize=(20,5))\n",
    "axes[0].set_title('Разброс значений признака f0')\n",
    "axes[0].set_ylabel('f0')\n",
    "data_0['f0'].plot(kind='box', ax=axes[0])\n",
    "\n",
    "axes[1].set_title('Разброс значений признака f1')\n",
    "axes[1].set_ylabel('f1')\n",
    "data_0['f1'].plot(kind='box', ax=axes[1])\n",
    "\n",
    "axes[2].set_title('Разброс значений признака f2')\n",
    "axes[2].set_ylabel('f2')\n",
    "data_0['f2'].plot(kind='box', ax=axes[2])\n",
    "\n",
    "axes[3].set_title('Разброс значений признака product')\n",
    "axes[3].set_ylabel('product')\n",
    "data_0['product'].plot(kind='box', ax=axes[3])\n",
    "plt.show();"
   ]
  },
  {
   "cell_type": "markdown",
   "metadata": {},
   "source": [
    "По таблице и графикам можно сказать, что признак f2 распределен не равномерно, имеются выбросы как в большую, так и в меньшую стороны."
   ]
  },
  {
   "cell_type": "markdown",
   "metadata": {},
   "source": [
    "Построим таблицу описательной статистики признаков датасета `data_1`"
   ]
  },
  {
   "cell_type": "code",
   "execution_count": 15,
   "metadata": {},
   "outputs": [
    {
     "data": {
      "text/html": [
       "<div>\n",
       "<style scoped>\n",
       "    .dataframe tbody tr th:only-of-type {\n",
       "        vertical-align: middle;\n",
       "    }\n",
       "\n",
       "    .dataframe tbody tr th {\n",
       "        vertical-align: top;\n",
       "    }\n",
       "\n",
       "    .dataframe thead th {\n",
       "        text-align: right;\n",
       "    }\n",
       "</style>\n",
       "<table border=\"1\" class=\"dataframe\">\n",
       "  <thead>\n",
       "    <tr style=\"text-align: right;\">\n",
       "      <th></th>\n",
       "      <th>f0</th>\n",
       "      <th>f1</th>\n",
       "      <th>f2</th>\n",
       "      <th>product</th>\n",
       "    </tr>\n",
       "  </thead>\n",
       "  <tbody>\n",
       "    <tr>\n",
       "      <th>count</th>\n",
       "      <td>100000.000000</td>\n",
       "      <td>100000.000000</td>\n",
       "      <td>100000.000000</td>\n",
       "      <td>100000.000000</td>\n",
       "    </tr>\n",
       "    <tr>\n",
       "      <th>mean</th>\n",
       "      <td>0.002023</td>\n",
       "      <td>-0.002081</td>\n",
       "      <td>2.495128</td>\n",
       "      <td>95.000000</td>\n",
       "    </tr>\n",
       "    <tr>\n",
       "      <th>std</th>\n",
       "      <td>1.732045</td>\n",
       "      <td>1.730417</td>\n",
       "      <td>3.473445</td>\n",
       "      <td>44.749921</td>\n",
       "    </tr>\n",
       "    <tr>\n",
       "      <th>min</th>\n",
       "      <td>-8.760004</td>\n",
       "      <td>-7.084020</td>\n",
       "      <td>-11.970335</td>\n",
       "      <td>0.000000</td>\n",
       "    </tr>\n",
       "    <tr>\n",
       "      <th>25%</th>\n",
       "      <td>-1.162288</td>\n",
       "      <td>-1.174820</td>\n",
       "      <td>0.130359</td>\n",
       "      <td>59.450441</td>\n",
       "    </tr>\n",
       "    <tr>\n",
       "      <th>50%</th>\n",
       "      <td>0.009424</td>\n",
       "      <td>-0.009482</td>\n",
       "      <td>2.484236</td>\n",
       "      <td>94.925613</td>\n",
       "    </tr>\n",
       "    <tr>\n",
       "      <th>75%</th>\n",
       "      <td>1.158535</td>\n",
       "      <td>1.163678</td>\n",
       "      <td>4.858794</td>\n",
       "      <td>130.595027</td>\n",
       "    </tr>\n",
       "    <tr>\n",
       "      <th>max</th>\n",
       "      <td>7.238262</td>\n",
       "      <td>7.844801</td>\n",
       "      <td>16.739402</td>\n",
       "      <td>190.029838</td>\n",
       "    </tr>\n",
       "  </tbody>\n",
       "</table>\n",
       "</div>"
      ],
      "text/plain": [
       "                  f0             f1             f2        product\n",
       "count  100000.000000  100000.000000  100000.000000  100000.000000\n",
       "mean        0.002023      -0.002081       2.495128      95.000000\n",
       "std         1.732045       1.730417       3.473445      44.749921\n",
       "min        -8.760004      -7.084020     -11.970335       0.000000\n",
       "25%        -1.162288      -1.174820       0.130359      59.450441\n",
       "50%         0.009424      -0.009482       2.484236      94.925613\n",
       "75%         1.158535       1.163678       4.858794     130.595027\n",
       "max         7.238262       7.844801      16.739402     190.029838"
      ]
     },
     "execution_count": 15,
     "metadata": {},
     "output_type": "execute_result"
    }
   ],
   "source": [
    "data_2.describe()"
   ]
  },
  {
   "cell_type": "markdown",
   "metadata": {},
   "source": [
    "Построим график \"ящики с усами\", который покажет выбросы и основные статистики данных (квартили)"
   ]
  },
  {
   "cell_type": "code",
   "execution_count": 16,
   "metadata": {},
   "outputs": [
    {
     "data": {
      "image/png": "[encoded data removed]",
      "text/plain": [
       "<Figure size 1440x360 with 4 Axes>"
      ]
     },
     "metadata": {
      "needs_background": "light"
     },
     "output_type": "display_data"
    }
   ],
   "source": [
    "plt.rcParams.update({'font.size': 9})\n",
    "fig, axes = plt.subplots(nrows=1, ncols=4, figsize=(20,5))\n",
    "axes[0].set_title('Разброс значений признака f0')\n",
    "axes[0].set_ylabel('f0')\n",
    "data_1['f0'].plot(kind='box', ax=axes[0])\n",
    "\n",
    "axes[1].set_title('Разброс значений признака f1')\n",
    "axes[1].set_ylabel('f1')\n",
    "data_1['f1'].plot(kind='box', ax=axes[1])\n",
    "\n",
    "axes[2].set_title('Разброс значений признака f2')\n",
    "axes[2].set_ylabel('f2')\n",
    "data_1['f2'].plot(kind='box', ax=axes[2])\n",
    "\n",
    "axes[3].set_title('Разброс значений признака product')\n",
    "axes[3].set_ylabel('product')\n",
    "data_1['product'].plot(kind='box', ax=axes[3])\n",
    "plt.show();"
   ]
  },
  {
   "cell_type": "markdown",
   "metadata": {},
   "source": [
    "По  таблице и графикам можно сказать, что признак f1 распределен не равномерно, имеются выбросы как в большую, так и в меньшую стороны."
   ]
  },
  {
   "cell_type": "markdown",
   "metadata": {},
   "source": [
    "Построим таблицу описательной статистики признаков датасета `data_2`"
   ]
  },
  {
   "cell_type": "code",
   "execution_count": 17,
   "metadata": {},
   "outputs": [
    {
     "data": {
      "text/html": [
       "<div>\n",
       "<style scoped>\n",
       "    .dataframe tbody tr th:only-of-type {\n",
       "        vertical-align: middle;\n",
       "    }\n",
       "\n",
       "    .dataframe tbody tr th {\n",
       "        vertical-align: top;\n",
       "    }\n",
       "\n",
       "    .dataframe thead th {\n",
       "        text-align: right;\n",
       "    }\n",
       "</style>\n",
       "<table border=\"1\" class=\"dataframe\">\n",
       "  <thead>\n",
       "    <tr style=\"text-align: right;\">\n",
       "      <th></th>\n",
       "      <th>f0</th>\n",
       "      <th>f1</th>\n",
       "      <th>f2</th>\n",
       "      <th>product</th>\n",
       "    </tr>\n",
       "  </thead>\n",
       "  <tbody>\n",
       "    <tr>\n",
       "      <th>count</th>\n",
       "      <td>100000.000000</td>\n",
       "      <td>100000.000000</td>\n",
       "      <td>100000.000000</td>\n",
       "      <td>100000.000000</td>\n",
       "    </tr>\n",
       "    <tr>\n",
       "      <th>mean</th>\n",
       "      <td>0.002023</td>\n",
       "      <td>-0.002081</td>\n",
       "      <td>2.495128</td>\n",
       "      <td>95.000000</td>\n",
       "    </tr>\n",
       "    <tr>\n",
       "      <th>std</th>\n",
       "      <td>1.732045</td>\n",
       "      <td>1.730417</td>\n",
       "      <td>3.473445</td>\n",
       "      <td>44.749921</td>\n",
       "    </tr>\n",
       "    <tr>\n",
       "      <th>min</th>\n",
       "      <td>-8.760004</td>\n",
       "      <td>-7.084020</td>\n",
       "      <td>-11.970335</td>\n",
       "      <td>0.000000</td>\n",
       "    </tr>\n",
       "    <tr>\n",
       "      <th>25%</th>\n",
       "      <td>-1.162288</td>\n",
       "      <td>-1.174820</td>\n",
       "      <td>0.130359</td>\n",
       "      <td>59.450441</td>\n",
       "    </tr>\n",
       "    <tr>\n",
       "      <th>50%</th>\n",
       "      <td>0.009424</td>\n",
       "      <td>-0.009482</td>\n",
       "      <td>2.484236</td>\n",
       "      <td>94.925613</td>\n",
       "    </tr>\n",
       "    <tr>\n",
       "      <th>75%</th>\n",
       "      <td>1.158535</td>\n",
       "      <td>1.163678</td>\n",
       "      <td>4.858794</td>\n",
       "      <td>130.595027</td>\n",
       "    </tr>\n",
       "    <tr>\n",
       "      <th>max</th>\n",
       "      <td>7.238262</td>\n",
       "      <td>7.844801</td>\n",
       "      <td>16.739402</td>\n",
       "      <td>190.029838</td>\n",
       "    </tr>\n",
       "  </tbody>\n",
       "</table>\n",
       "</div>"
      ],
      "text/plain": [
       "                  f0             f1             f2        product\n",
       "count  100000.000000  100000.000000  100000.000000  100000.000000\n",
       "mean        0.002023      -0.002081       2.495128      95.000000\n",
       "std         1.732045       1.730417       3.473445      44.749921\n",
       "min        -8.760004      -7.084020     -11.970335       0.000000\n",
       "25%        -1.162288      -1.174820       0.130359      59.450441\n",
       "50%         0.009424      -0.009482       2.484236      94.925613\n",
       "75%         1.158535       1.163678       4.858794     130.595027\n",
       "max         7.238262       7.844801      16.739402     190.029838"
      ]
     },
     "execution_count": 17,
     "metadata": {},
     "output_type": "execute_result"
    }
   ],
   "source": [
    "data_2.describe()"
   ]
  },
  {
   "cell_type": "markdown",
   "metadata": {},
   "source": [
    "Построим график \"ящики с усами\", который покажет выбросы и основные статистики данных (квартили)"
   ]
  },
  {
   "cell_type": "code",
   "execution_count": 18,
   "metadata": {},
   "outputs": [
    {
     "data": {
      "image/png": "[encoded data removed]",
      "text/plain": [
       "<Figure size 1440x360 with 4 Axes>"
      ]
     },
     "metadata": {
      "needs_background": "light"
     },
     "output_type": "display_data"
    }
   ],
   "source": [
    "plt.rcParams.update({'font.size': 9})\n",
    "fig, axes = plt.subplots(nrows=1, ncols=4, figsize=(20,5))\n",
    "axes[0].set_title('Разброс значений признака f0')\n",
    "axes[0].set_ylabel('f0')\n",
    "data_2['f0'].plot(kind='box', ax=axes[0])\n",
    "\n",
    "axes[1].set_title('Разброс значений признака f1')\n",
    "axes[1].set_ylabel('f1')\n",
    "data_2['f1'].plot(kind='box', ax=axes[1])\n",
    "\n",
    "axes[2].set_title('Разброс значений признака f2')\n",
    "axes[2].set_ylabel('f2')\n",
    "data_2['f2'].plot(kind='box', ax=axes[2])\n",
    "\n",
    "axes[3].set_title('Разброс значений признака product')\n",
    "axes[3].set_ylabel('product')\n",
    "data_2['product'].plot(kind='box', ax=axes[3])\n",
    "plt.show();"
   ]
  },
  {
   "cell_type": "markdown",
   "metadata": {},
   "source": [
    "По  таблице и графикам можно сказать, что признаки f0, f1, f2 распределены не равномерно, имеются выбросы как в большую, так и в меньшую стороны."
   ]
  },
  {
   "cell_type": "markdown",
   "metadata": {},
   "source": [
    "На данном этапе с выбросами в данных делать ничего не будем, оставим все как есть. Скорее всего, есть необходимость обучить в дальнейшем модели с данными выбросами, чтобы предсказания были более точными с учетом выбросов."
   ]
  },
  {
   "cell_type": "markdown",
   "metadata": {},
   "source": [
    "#### Посмотрим на взаимосвязь данных"
   ]
  },
  {
   "cell_type": "markdown",
   "metadata": {},
   "source": [
    "Выполним анализ корреляции датасета `data_0`"
   ]
  },
  {
   "cell_type": "code",
   "execution_count": 19,
   "metadata": {},
   "outputs": [
    {
     "data": {
      "image/png": "[encoded data removed]",
      "text/plain": [
       "<Figure size 576x360 with 2 Axes>"
      ]
     },
     "metadata": {
      "needs_background": "light"
     },
     "output_type": "display_data"
    }
   ],
   "source": [
    "corr_matrix = data_0.drop(['id'], axis =1).phik_matrix(interval_cols=['f0', 'f1', 'f2', 'product'])\n",
    "\n",
    "# Визуализируем матрицу корреляции\n",
    "plt.figure(figsize=(8, 5))\n",
    "sns.heatmap(corr_matrix, annot=True, cmap='coolwarm')\n",
    "plt.title('Phi_K Correlation Matrix')\n",
    "plt.show()"
   ]
  },
  {
   "cell_type": "markdown",
   "metadata": {},
   "source": [
    "Согласно получившейся матрицы корреляции следует, что высокая прямая связь наблюдается у признаков:\n",
    "- `f0` и `f1`."
   ]
  },
  {
   "cell_type": "markdown",
   "metadata": {},
   "source": [
    "Выполним анализ корреляции датасета `data_1`"
   ]
  },
  {
   "cell_type": "code",
   "execution_count": 20,
   "metadata": {},
   "outputs": [
    {
     "data": {
      "image/png": "[encoded data removed]",
      "text/plain": [
       "<Figure size 576x360 with 2 Axes>"
      ]
     },
     "metadata": {
      "needs_background": "light"
     },
     "output_type": "display_data"
    }
   ],
   "source": [
    "corr_matrix = data_1.drop(['id'], axis =1).phik_matrix(interval_cols=['f0', 'f1', 'f2', 'product'])\n",
    "\n",
    "# Визуализируем матрицу корреляции\n",
    "plt.figure(figsize=(8, 5))\n",
    "sns.heatmap(corr_matrix, annot=True, cmap='coolwarm')\n",
    "plt.title('Phi_K Correlation Matrix')\n",
    "plt.show()"
   ]
  },
  {
   "cell_type": "markdown",
   "metadata": {},
   "source": [
    "Согласно получившейся матрицы корреляции следует, что заметная прямая связь наблюдается у признаков:\n",
    "- `f0` и `product`.\n",
    "\n",
    "Весьма высокая взаимосвязь наблюдается у признаков:\n",
    "- `f2` и `product`."
   ]
  },
  {
   "cell_type": "markdown",
   "metadata": {},
   "source": [
    "Выполним анализ корреляции датасета `data_2`"
   ]
  },
  {
   "cell_type": "code",
   "execution_count": 21,
   "metadata": {},
   "outputs": [
    {
     "data": {
      "image/png": "[encoded data removed]",
      "text/plain": [
       "<Figure size 576x360 with 2 Axes>"
      ]
     },
     "metadata": {
      "needs_background": "light"
     },
     "output_type": "display_data"
    }
   ],
   "source": [
    "corr_matrix = data_2.drop(['id'], axis =1).phik_matrix(interval_cols=['f0', 'f1', 'f2', 'product'])\n",
    "\n",
    "# Визуализируем матрицу корреляции\n",
    "plt.figure(figsize=(8, 5))\n",
    "sns.heatmap(corr_matrix, annot=True, cmap='coolwarm')\n",
    "plt.title('Phi_K Correlation Matrix')\n",
    "plt.show()"
   ]
  },
  {
   "cell_type": "markdown",
   "metadata": {},
   "source": [
    "Согласно получившейся матрицы корреляции следует, что наблюдается слабая и умеренная взаимосвязь у признаков."
   ]
  },
  {
   "cell_type": "markdown",
   "metadata": {},
   "source": [
    "### Выводы по анализу данных\n",
    "\n",
    "По итогам ознакомления с данными следует следующее:\n",
    "\n",
    "- На этапе ознакомления с данными выявлены неправильные типы у данных. \n",
    "- По графикам распределения признаков, можно сказать, что большинство признаков распределены симметрично.\n",
    "- По таблице и графикам можно сказать, что данные распределены не равномерно, имеются выбросы как в большую, так и в меньшую стороны.\n",
    "- Согласно матрицам корреляции прослеживаются между некоторыми признаками умеренная, высокая и весьма высокая прямые связи."
   ]
  },
  {
   "cell_type": "markdown",
   "metadata": {},
   "source": [
    "### Выполним подготовку данных"
   ]
  },
  {
   "cell_type": "markdown",
   "metadata": {},
   "source": [
    "Переведем столбец `id` в индекс, так как для обучения данный столбец не несет значимости"
   ]
  },
  {
   "cell_type": "code",
   "execution_count": 22,
   "metadata": {},
   "outputs": [],
   "source": [
    "data_0 = data_0.set_index('id')"
   ]
  },
  {
   "cell_type": "code",
   "execution_count": 23,
   "metadata": {},
   "outputs": [
    {
     "name": "stdout",
     "output_type": "stream",
     "text": [
      " Количество дубликатов в \"data_0\" после индексации \"id\": 0\n"
     ]
    }
   ],
   "source": [
    "print(f' Количество дубликатов в \"data_0\" после индексации \"id\": {data_0.duplicated().sum()}')"
   ]
  },
  {
   "cell_type": "code",
   "execution_count": 24,
   "metadata": {},
   "outputs": [],
   "source": [
    "data_1 = data_1.set_index('id')"
   ]
  },
  {
   "cell_type": "code",
   "execution_count": 25,
   "metadata": {},
   "outputs": [
    {
     "name": "stdout",
     "output_type": "stream",
     "text": [
      " Количество дубликатов в \"data_1\" после индексации \"id\": 0\n"
     ]
    }
   ],
   "source": [
    "print(f' Количество дубликатов в \"data_1\" после индексации \"id\": {data_1.duplicated().sum()}')"
   ]
  },
  {
   "cell_type": "code",
   "execution_count": 26,
   "metadata": {},
   "outputs": [],
   "source": [
    "data_2 = data_2.set_index('id')"
   ]
  },
  {
   "cell_type": "code",
   "execution_count": 27,
   "metadata": {},
   "outputs": [
    {
     "name": "stdout",
     "output_type": "stream",
     "text": [
      " Количество дубликатов в \"data_2\" после индексации \"id\": 0\n"
     ]
    }
   ],
   "source": [
    "print(f' Количество дубликатов в \"data_2\" после индексации \"id\": {data_2.duplicated().sum()}')"
   ]
  },
  {
   "cell_type": "markdown",
   "metadata": {},
   "source": [
    "### Выводы по предобработке данных\n",
    "\n",
    "По итогам предобработке данных:\n",
    "- Проверили пропуски в данных.\n",
    "- Проверили данные на явные дубликаты.\n",
    "- Данные с плавающей точкой типа object были заменены на данные с плавающей точкой типа float64."
   ]
  },
  {
   "cell_type": "markdown",
   "metadata": {},
   "source": [
    "## Обучение и проверка модели"
   ]
  },
  {
   "cell_type": "markdown",
   "metadata": {},
   "source": [
    "На данном этапе необходимо обучить и проверить модель для каждого региона"
   ]
  },
  {
   "cell_type": "code",
   "execution_count": 28,
   "metadata": {},
   "outputs": [],
   "source": [
    "# Создадим список предсказаний по объёму сырья в скважине на валидационной выборке\n",
    "predictions_valid = []\n",
    "# Создадим список правильных ответов на тренировочной выборке\n",
    "train_target = []\n",
    "# Создадим список правильных ответов на валидационной выборке\n",
    "valid_target = []\n",
    "# Создадим список предсказаний со средним значением объёма запасов в скважине на валидационной выборке\n",
    "predictions_mean = []"
   ]
  },
  {
   "cell_type": "code",
   "execution_count": 29,
   "metadata": {},
   "outputs": [
    {
     "name": "stdout",
     "output_type": "stream",
     "text": [
      "Датасет \"data_0\" (Регион 1):\n",
      "Cреднее значение предсказанного объёма запасов в скважине: 92.59 тыс. баррелей\n",
      "Значения метрики R2 модели: 0.28\n",
      "Значения метрики RMSE модели: 37.58\n",
      " \n",
      "Датасет \"data_1\" (Регион 2):\n",
      "Cреднее значение предсказанного объёма запасов в скважине: 68.73 тыс. баррелей\n",
      "Значения метрики R2 модели: 1.0\n",
      "Значения метрики RMSE модели: 0.89\n",
      " \n",
      "Датасет \"data_2\" (Регион 3):\n",
      "Cреднее значение предсказанного объёма запасов в скважине: 94.97 тыс. баррелей\n",
      "Значения метрики R2 модели: 0.21\n",
      "Значения метрики RMSE модели: 40.03\n"
     ]
    }
   ],
   "source": [
    "# Создадим функцию для обучения модели и предсказания данных\n",
    "def learning_prediction(data):\n",
    "    features = data.drop(['product'], axis = 1)\n",
    "    target = data['product']\n",
    "    # Разделим данные на выборки\n",
    "    features_train, features_valid, target_train, target_valid = train_test_split(features, \n",
    "                                                                                  target, \n",
    "                                                                                  test_size = TEST_SIZE, \n",
    "                                                                                  random_state = RANDOM_STATE)\n",
    "    # Обучим данные\n",
    "    model = LinearRegression()\n",
    "    model.fit(features_train, target_train)\n",
    "                                                                                  \n",
    "    # Сделаем предсказания на обученных данных \n",
    "    predictions = model.predict(features_valid)\n",
    "    \n",
    "    # Список предсказаний по объёму запасов в скважине на валидационной выборке\n",
    "    predictions_valid.append(predictions)\n",
    "    # Cписок правильных ответов на тренировочной выборке\n",
    "    train_target.append(target_train.reset_index(drop=True))\n",
    "    # Cписок правильных ответов на валидационной выборке\n",
    "    valid_target.append(target_valid.reset_index(drop=True))\n",
    "    # Cписок предсказаний со средним значением объёма запасов в скважине на валидационной выборке\n",
    "    predictions_mean.append(predictions.mean())\n",
    "    \n",
    "    # Выведем значения со средним значением предсказанного объёма запасов в скважине для трех датасетов \n",
    "    print(f'Cреднее значение предсказанного объёма запасов в скважине: {round(predictions.mean(),2)} тыс. баррелей')\n",
    "    # Выведем значения метрики MSE модели для трех датасетов \n",
    "    print(f'Значения метрики R2 модели: {round(r2_score(target_valid, predictions),2)}')\n",
    "    # Выведем значения метрики RMSE модели для трех датасетов \n",
    "    print(f'Значения метрики RMSE модели: {round(mean_squared_error(target_valid, predictions, squared=False),2)}')\n",
    "\n",
    "print('Датасет \"data_0\" (Регион 1):')    \n",
    "learning_prediction(data_0)\n",
    "print(' ')\n",
    "print('Датасет \"data_1\" (Регион 2):')    \n",
    "learning_prediction(data_1)\n",
    "print(' ')\n",
    "print('Датасет \"data_2\" (Регион 3):')    \n",
    "learning_prediction(data_2)"
   ]
  },
  {
   "cell_type": "markdown",
   "metadata": {},
   "source": [
    "### Выводы по обучению моделей\n",
    "\n",
    "По результатам предсказанных значений и полученных метрик, можно сделать следующие  выводы:\n",
    "- Cредние значения предсказанного объёма запасов в скважине в первом и третьем регионе значительно выше, чем во втором регионе.\n",
    "- По метрике RMSE заметны высокие значения в первом и третьем регионе, по сравнению со вторым регионом, это говорит о том, что в данных двух регионах достаточно большой разброс данных.\n",
    "- По метрике R2, можно сказать, что предсказание модели во втором регионе более точное по сравнению со средним значением целевого признака, чем предсказание в первом и третьем регионе. Это, возможно, связанно также из-за достаточно большого разброса данных в этих двух регионах."
   ]
  },
  {
   "cell_type": "markdown",
   "metadata": {},
   "source": [
    "## Подготовка к расчёту прибыли"
   ]
  },
  {
   "cell_type": "markdown",
   "metadata": {},
   "source": [
    "На данном этапе необходимо подготовить данные к расчету прибыли"
   ]
  },
  {
   "cell_type": "markdown",
   "metadata": {},
   "source": [
    "### Ключевые значения для расчётов сохраним в отдельных переменных"
   ]
  },
  {
   "cell_type": "code",
   "execution_count": 30,
   "metadata": {},
   "outputs": [],
   "source": [
    "# При разведке региона исследуют 500 точек:\n",
    "POINTS = 500\n",
    "# С помощью машинного обучения выбирают 200 лучших для разработки:\n",
    "BEST_POINTS = 200\n",
    "# Бюджет на разработку скважин в регионе — 10 млрд рублей:\n",
    "BUDGET = 1e07\n",
    "# Доход с каждой единицы продукта составляет 450 тыс. рублей:\n",
    "INCOME_UNIT = 450"
   ]
  },
  {
   "cell_type": "markdown",
   "metadata": {},
   "source": [
    "### Рассчитаем достаточный объём сырья для безубыточной разработки новой скважины"
   ]
  },
  {
   "cell_type": "code",
   "execution_count": 31,
   "metadata": {},
   "outputs": [
    {
     "name": "stdout",
     "output_type": "stream",
     "text": [
      "Средний достаточный объём сырья для безубыточной разработки новой скважины: 111.11 тыс. баррелей\n"
     ]
    }
   ],
   "source": [
    "# Средний достаточный объём сырья для безубыточной разработки новой скважины\n",
    "sufficient_volume = round(BUDGET/(BEST_POINTS*INCOME_UNIT), 2)\n",
    "print(f'Средний достаточный объём сырья для безубыточной разработки новой скважины: {sufficient_volume} тыс. баррелей')"
   ]
  },
  {
   "cell_type": "markdown",
   "metadata": {},
   "source": [
    "Исходя из получившегося значения, можно сказать, что минимум 111,11 тыс. баррелей необходимо, чтобы отбить себестоимость разработки. "
   ]
  },
  {
   "cell_type": "markdown",
   "metadata": {},
   "source": [
    "### Сравним полученный объём сырья со средним запасом в каждом регионе "
   ]
  },
  {
   "cell_type": "code",
   "execution_count": 32,
   "metadata": {},
   "outputs": [
    {
     "data": {
      "text/html": [
       "<div>\n",
       "<style scoped>\n",
       "    .dataframe tbody tr th:only-of-type {\n",
       "        vertical-align: middle;\n",
       "    }\n",
       "\n",
       "    .dataframe tbody tr th {\n",
       "        vertical-align: top;\n",
       "    }\n",
       "\n",
       "    .dataframe thead th {\n",
       "        text-align: right;\n",
       "    }\n",
       "</style>\n",
       "<table border=\"1\" class=\"dataframe\">\n",
       "  <thead>\n",
       "    <tr style=\"text-align: right;\">\n",
       "      <th></th>\n",
       "      <th>регион</th>\n",
       "      <th>предсказанный_объём_сырья</th>\n",
       "      <th>достаточный_объём_сырья</th>\n",
       "    </tr>\n",
       "  </thead>\n",
       "  <tbody>\n",
       "    <tr>\n",
       "      <th>0</th>\n",
       "      <td>Регион_1</td>\n",
       "      <td>92.59</td>\n",
       "      <td>111.11</td>\n",
       "    </tr>\n",
       "    <tr>\n",
       "      <th>1</th>\n",
       "      <td>Регион_2</td>\n",
       "      <td>68.73</td>\n",
       "      <td>111.11</td>\n",
       "    </tr>\n",
       "    <tr>\n",
       "      <th>2</th>\n",
       "      <td>Регион_3</td>\n",
       "      <td>94.97</td>\n",
       "      <td>111.11</td>\n",
       "    </tr>\n",
       "  </tbody>\n",
       "</table>\n",
       "</div>"
      ],
      "text/plain": [
       "     регион  предсказанный_объём_сырья  достаточный_объём_сырья\n",
       "0  Регион_1                      92.59                   111.11\n",
       "1  Регион_2                      68.73                   111.11\n",
       "2  Регион_3                      94.97                   111.11"
      ]
     },
     "metadata": {},
     "output_type": "display_data"
    }
   ],
   "source": [
    "comparison = pd.DataFrame(columns=['регион', 'предсказанный_объём_сырья', 'достаточный_объём_сырья'])\n",
    "for i in range(3):\n",
    "    comparison.loc[len(comparison)] = [f'Регион_{i+1}', \n",
    "                                       round(predictions_valid[i].mean(), 2),\n",
    "                                       sufficient_volume]\n",
    "display(comparison)"
   ]
  },
  {
   "cell_type": "markdown",
   "metadata": {},
   "source": [
    "Выше предсказанные средние значения объемов сырья меньше данного показателя. Необходимо выбрать из всех скважин 200 наиболее выгодных точек с лучшими значениями объемов сырья."
   ]
  },
  {
   "cell_type": "markdown",
   "metadata": {},
   "source": [
    "### Выводы по подготовке к расчёту прибыли\n",
    "\n",
    "По итогам подготовке к расчёту прибыли:\n",
    "- Исходя из получившегося значения, можно сказать, что минимум 111,11 тыс. баррелей необходимо, чтобы отбить себестоимость разработки.\n",
    "- Выше предсказанные средние значения объемов сырья меньше данного показателя. Необходимо выбрать из всех скважин 200 наиболее выгодных точек с лучшими значениями объемов сырья."
   ]
  },
  {
   "cell_type": "markdown",
   "metadata": {},
   "source": [
    "### Напишем функцию для расчёта прибыли по выбранным скважинам и предсказаниям модели"
   ]
  },
  {
   "cell_type": "markdown",
   "metadata": {},
   "source": [
    "На данном этапе необходимо:\n",
    "- Выбрать скважины с максимальными значениями предсказаний.\n",
    "- Просуммировать целевое значение объёма сырья, соответствующее этим предсказаниям.\n",
    "- Рассчитать прибыль для полученного объёма сырья."
   ]
  },
  {
   "cell_type": "code",
   "execution_count": 33,
   "metadata": {},
   "outputs": [],
   "source": [
    "# Создадим функцию для расчёта прибыли по выбранным скважинам и предсказаниям модели\n",
    "def profit_calculation(target, predictions):\n",
    "    max_predictions = predictions.sort_values(ascending=False)\n",
    "    target_best_points = target[max_predictions.index][:BEST_POINTS]\n",
    "    return target_best_points.sum() * INCOME_UNIT - BUDGET"
   ]
  },
  {
   "cell_type": "code",
   "execution_count": 34,
   "metadata": {},
   "outputs": [
    {
     "data": {
      "text/html": [
       "<div>\n",
       "<style scoped>\n",
       "    .dataframe tbody tr th:only-of-type {\n",
       "        vertical-align: middle;\n",
       "    }\n",
       "\n",
       "    .dataframe tbody tr th {\n",
       "        vertical-align: top;\n",
       "    }\n",
       "\n",
       "    .dataframe thead th {\n",
       "        text-align: right;\n",
       "    }\n",
       "</style>\n",
       "<table border=\"1\" class=\"dataframe\">\n",
       "  <thead>\n",
       "    <tr style=\"text-align: right;\">\n",
       "      <th></th>\n",
       "      <th>регион</th>\n",
       "      <th>прибыль_млрд_рублей</th>\n",
       "    </tr>\n",
       "  </thead>\n",
       "  <tbody>\n",
       "    <tr>\n",
       "      <th>0</th>\n",
       "      <td>Регион_1</td>\n",
       "      <td>3.320826</td>\n",
       "    </tr>\n",
       "    <tr>\n",
       "      <th>1</th>\n",
       "      <td>Регион_2</td>\n",
       "      <td>2.415087</td>\n",
       "    </tr>\n",
       "    <tr>\n",
       "      <th>2</th>\n",
       "      <td>Регион_3</td>\n",
       "      <td>2.710350</td>\n",
       "    </tr>\n",
       "  </tbody>\n",
       "</table>\n",
       "</div>"
      ],
      "text/plain": [
       "     регион  прибыль_млрд_рублей\n",
       "0  Регион_1             3.320826\n",
       "1  Регион_2             2.415087\n",
       "2  Регион_3             2.710350"
      ]
     },
     "metadata": {},
     "output_type": "display_data"
    }
   ],
   "source": [
    "# Рассчитаем прибыль для полученного объёма сырья по лучшим 200 точкам\n",
    "result_profit = pd.DataFrame(columns=['регион', 'прибыль_млрд_рублей'])\n",
    "for i in range(3):\n",
    "    predictions_200 = pd.Series(predictions_valid[i])\n",
    "    profit_200 = profit_calculation(valid_target[i], predictions_200)\n",
    "    result_profit.loc[len(result_profit.index)] = [f'Регион_{i+1}', profit_200/1000000]\n",
    "display(result_profit)"
   ]
  },
  {
   "cell_type": "markdown",
   "metadata": {},
   "source": [
    "По итогам расчета прибыли для полученного объёма сырья трех регионов, можно сказать, что все три региона имеют прибыльное положение. Меньше всего прибыли у второго региона."
   ]
  },
  {
   "cell_type": "markdown",
   "metadata": {},
   "source": [
    "## Расчёт прибыли и рисков "
   ]
  },
  {
   "cell_type": "markdown",
   "metadata": {},
   "source": [
    "На данном этапе необходимо применить технику Bootstrap с 1000 выборок, чтобы найти распределение прибыли, найти среднюю прибыль, 95%-й доверительный интервал и риск убытков, предложить регион для разработки скважин."
   ]
  },
  {
   "cell_type": "code",
   "execution_count": 35,
   "metadata": {},
   "outputs": [],
   "source": [
    "result = pd.DataFrame(columns=['регион', \n",
    "                               'средняя_прибыль_млрд_рублей',\n",
    "                               '95%-й_доверительный_интервал_млрд_рублей',\n",
    "                               'риск_убытков_%'])\n",
    "\n",
    "risk = []\n",
    "state = np.random.RandomState(12345)\n",
    "bootstrap_samples = 1000"
   ]
  },
  {
   "cell_type": "code",
   "execution_count": 36,
   "metadata": {},
   "outputs": [
    {
     "data": {
      "text/html": [
       "<div>\n",
       "<style scoped>\n",
       "    .dataframe tbody tr th:only-of-type {\n",
       "        vertical-align: middle;\n",
       "    }\n",
       "\n",
       "    .dataframe tbody tr th {\n",
       "        vertical-align: top;\n",
       "    }\n",
       "\n",
       "    .dataframe thead th {\n",
       "        text-align: right;\n",
       "    }\n",
       "</style>\n",
       "<table border=\"1\" class=\"dataframe\">\n",
       "  <thead>\n",
       "    <tr style=\"text-align: right;\">\n",
       "      <th></th>\n",
       "      <th>регион</th>\n",
       "      <th>средняя_прибыль_млрд_рублей</th>\n",
       "      <th>95%-й_доверительный_интервал_млрд_рублей</th>\n",
       "      <th>риск_убытков_%</th>\n",
       "    </tr>\n",
       "  </thead>\n",
       "  <tbody>\n",
       "    <tr>\n",
       "      <th>0</th>\n",
       "      <td>Регион_1</td>\n",
       "      <td>0.396165</td>\n",
       "      <td>от -0.11 до 0.91</td>\n",
       "      <td>6.9</td>\n",
       "    </tr>\n",
       "    <tr>\n",
       "      <th>1</th>\n",
       "      <td>Регион_2</td>\n",
       "      <td>0.461156</td>\n",
       "      <td>от 0.08 до 0.86</td>\n",
       "      <td>0.7</td>\n",
       "    </tr>\n",
       "    <tr>\n",
       "      <th>2</th>\n",
       "      <td>Регион_3</td>\n",
       "      <td>0.392950</td>\n",
       "      <td>от -0.11 до 0.93</td>\n",
       "      <td>6.5</td>\n",
       "    </tr>\n",
       "  </tbody>\n",
       "</table>\n",
       "</div>"
      ],
      "text/plain": [
       "     регион  средняя_прибыль_млрд_рублей  \\\n",
       "0  Регион_1                     0.396165   \n",
       "1  Регион_2                     0.461156   \n",
       "2  Регион_3                     0.392950   \n",
       "\n",
       "  95%-й_доверительный_интервал_млрд_рублей  риск_убытков_%  \n",
       "0                         от -0.11 до 0.91             6.9  \n",
       "1                          от 0.08 до 0.86             0.7  \n",
       "2                         от -0.11 до 0.93             6.5  "
      ]
     },
     "metadata": {},
     "output_type": "display_data"
    }
   ],
   "source": [
    "for i in range(3):\n",
    "    predictions = predictions_valid[i]\n",
    "    target = valid_target[i]\n",
    "    profit = []\n",
    "    # Применение техники Bootstrap с 1000 выборокам\n",
    "    for j in range(bootstrap_samples):\n",
    "        target_500 = target.sample(POINTS, replace=True, random_state = state)\n",
    "        predictions_500 = predictions[target_500.index]\n",
    "        \n",
    "        target_500 = target_500.reset_index(drop=True)\n",
    "        predictions_500 = pd.Series(predictions_500).reset_index(drop = True)\n",
    "        profit.append(profit_calculation(target_500, predictions_500))\n",
    "    \n",
    "    profit = pd.Series(profit)\n",
    "    mean_profit = round(profit.mean(), 2)\n",
    "    confidence_interval = (f'от {round(profit.quantile(0.025)/1000000, 2)} до {round(profit.quantile(0.975)/1000000, 2)}')\n",
    "    risk_losses = round((profit<0).mean()*100, 2)\n",
    "    risk.append(risk_losses)\n",
    "    \n",
    "    result.loc[len(result)] = [f'Регион_{i+1}', mean_profit/1000000, confidence_interval, risk_losses]\n",
    "display(result)"
   ]
  },
  {
   "cell_type": "code",
   "execution_count": 37,
   "metadata": {},
   "outputs": [
    {
     "data": {
      "image/png": "[encoded data removed]",
      "text/plain": [
       "<Figure size 576x576 with 1 Axes>"
      ]
     },
     "metadata": {},
     "output_type": "display_data"
    }
   ],
   "source": [
    "plt.rcParams.update({'font.size': 10})\n",
    "profit_plot = result.pivot_table(\n",
    "    index='регион', \n",
    "    values='средняя_прибыль_млрд_рублей').sort_values('средняя_прибыль_млрд_рублей').plot(kind='pie',\n",
    "                                                y='средняя_прибыль_млрд_рублей',\n",
    "                                                ylabel='',                                           \n",
    "                                                title = 'Распределение средней прибыли в процентах от прибыли всех регионов', \n",
    "                                                autopct='%1.1f%%',\n",
    "                                                colormap=\"rainbow\",\n",
    "                                                figsize=(8,8))\n",
    "plt.legend(loc=3)\n",
    "plt.show()"
   ]
  },
  {
   "cell_type": "code",
   "execution_count": 38,
   "metadata": {},
   "outputs": [
    {
     "data": {
      "image/png": "[encoded data removed]",
      "text/plain": [
       "<Figure size 864x288 with 1 Axes>"
      ]
     },
     "metadata": {
      "needs_background": "light"
     },
     "output_type": "display_data"
    }
   ],
   "source": [
    "plt.rcParams.update({'font.size': 10})\n",
    "result.plot(x = 'регион', \n",
    "            y = 'риск_убытков_%', \n",
    "            kind='bar', \n",
    "            grid=True, \n",
    "            title='Распределение рисков убытков в процентах', \n",
    "            colormap=\"jet\", \n",
    "            figsize=(12,4));\n",
    "plt.ylabel('%')\n",
    "plt.show()"
   ]
  },
  {
   "cell_type": "markdown",
   "metadata": {},
   "source": [
    "### Выводы по расчетам рисков и прибыли для каждого региона\n",
    "\n",
    "По получившейся таблице с результатами расчета рисков и прибыли для каждого региона и графиках , можно сделать следующие выводы:\n",
    "- Средняя прибыль у регионов 1 и 3 примерно одинакова и ниже средней прибыли региона 2.\n",
    "- Доверительный интервал у регионов 1 и 3 примерно одинаков и  с учетом отрицательного значения ниже доверительного интервала у региона 2.\n",
    "- Риск убытков у регионов 1 и 3 больше 2.5%, у региона 2 - 0.7%, что меньше 2.5%.\n",
    "\n",
    "**Исходя из выводов, по анализу средней прибыли, доверительного интервала и риска убытков, наиболее прибыльный регион для разработки месторождения с меньшими рисками - регион 2.**"
   ]
  },
  {
   "cell_type": "markdown",
   "metadata": {},
   "source": [
    "## Оформление выводов\n",
    "\n",
    "**По итогам ознакомления с данными следует следующее:**\n",
    "- На этапе ознакомления с данными выявлены неправильные типы у данных. \n",
    "- По графикам распределения признаков, можно сказать, что большинство признаков распределены симметрично.\n",
    "- По таблице и графикам можно сказать, что данные распределены не равномерно, имеются выбросы как в большую, так и в меньшую стороны.\n",
    "- Согласно матрицам корреляции прослеживаются между некоторыми признаками умеренная, высокая и весьма высокая прямые связи.\n",
    "\n",
    "**По итогам предобработке данных:**\n",
    "- Проверили пропуски в данных.\n",
    "- Проверили данные на явные дубликаты.\n",
    "- Данные с плавающей точкой типа object были заменены на данные с плавающей точкой типа float64.\n",
    "\n",
    "**По результатам предсказанных значений и полученных метрик, можно сделать следующие выводы:**\n",
    "- Средние значения предсказанного объёма запасов в скважине в первом и третьем регионе значительно выше, чем во втором регионе.\n",
    "- По метрике RMSE заметны высокие значения в первом и третьем регионе, по сравнению со вторым регионом, это говорит о том, что в данных двух регионах достаточно большой разброс данных.\n",
    "- По метрике R2, можно сказать, что предсказание модели во втором регионе более точное по сравнению со средним значением целевого признака, чем предсказание в первом и третьем регионе. Это, возможно, связанно также из-за достаточно большого разброса данных в этих двух регионах.\n",
    "\n",
    "**По итогам подготовке к расчёту прибыли:**\n",
    "- Исходя из получившегося значения, можно сказать, что минимум 111,11 тыс. баррелей необходимо, чтобы отбить себестоимость разработки.\n",
    "- Выше предсказанные средние значения объемов сырья меньше данного показателя. Необходимо выбрать из всех скважин 200 наиболее выгодных точек с лучшими значениями объемов сырья.\n",
    "\n",
    "По итогам расчета прибыли для полученного объёма сырья трех регионов, можно сказать, что все три региона имеют прибыльное положение. Меньше всего прибыли у второго региона.\n",
    "\n",
    "**По получившейся таблице с результатами расчета рисков и прибыли для каждого региона и графиках, можно сделать следующие выводы:**\n",
    "- Средняя прибыль у регионов 1 и 3 примерно одинакова и ниже средней прибыли региона 2.\n",
    "- Доверительный интервал у регионов 1 и 3 примерно одинаков и  с учетом отрицательного значения ниже доверительного интервала у региона 2.\n",
    "- Риск убытков у регионов 1 и 3 больше 2.5%, у региона 2 - 0.7%, что меньше 2.5%.\n",
    "\n",
    "**Исходя из выводов, по анализу средней прибыли, доверительного интервала и риска убытков, наиболее прибыльный регион для разработки месторождения с меньшими рисками - регион 2.**"
   ]
  }
 ],
 "metadata": {
  "ExecuteTimeLog": [
   {
    "duration": 8556,
    "start_time": "2023-12-27T06:04:30.377Z"
   },
   {
    "duration": 2121,
    "start_time": "2023-12-27T06:18:35.175Z"
   },
   {
    "duration": 3,
    "start_time": "2023-12-27T06:20:54.961Z"
   },
   {
    "duration": 21,
    "start_time": "2023-12-27T06:24:56.881Z"
   },
   {
    "duration": 68,
    "start_time": "2023-12-27T06:25:04.913Z"
   },
   {
    "duration": 37,
    "start_time": "2023-12-27T06:25:11.961Z"
   },
   {
    "duration": 37,
    "start_time": "2023-12-27T06:25:27.097Z"
   },
   {
    "duration": 37,
    "start_time": "2023-12-27T06:25:40.378Z"
   },
   {
    "duration": 66,
    "start_time": "2023-12-27T06:30:24.651Z"
   },
   {
    "duration": 58,
    "start_time": "2023-12-27T06:30:34.936Z"
   },
   {
    "duration": 58,
    "start_time": "2023-12-27T06:30:45.101Z"
   },
   {
    "duration": 63,
    "start_time": "2023-12-27T06:30:47.282Z"
   },
   {
    "duration": 36,
    "start_time": "2023-12-27T06:30:55.195Z"
   },
   {
    "duration": 151,
    "start_time": "2023-12-27T06:31:29.794Z"
   },
   {
    "duration": 146,
    "start_time": "2023-12-27T06:32:19.961Z"
   },
   {
    "duration": 140,
    "start_time": "2023-12-27T06:32:35.955Z"
   },
   {
    "duration": 150,
    "start_time": "2023-12-27T06:32:44.548Z"
   },
   {
    "duration": 185,
    "start_time": "2023-12-27T06:35:41.034Z"
   },
   {
    "duration": 155,
    "start_time": "2023-12-27T06:35:43.620Z"
   },
   {
    "duration": 60,
    "start_time": "2023-12-27T06:38:26.423Z"
   },
   {
    "duration": 54,
    "start_time": "2023-12-27T06:38:31.901Z"
   },
   {
    "duration": 852,
    "start_time": "2023-12-27T06:38:38.988Z"
   },
   {
    "duration": 79,
    "start_time": "2023-12-27T06:38:51.807Z"
   },
   {
    "duration": 173,
    "start_time": "2023-12-27T06:38:56.790Z"
   },
   {
    "duration": 17,
    "start_time": "2023-12-27T06:39:10.956Z"
   },
   {
    "duration": 158,
    "start_time": "2023-12-27T06:39:48.776Z"
   },
   {
    "duration": 170,
    "start_time": "2023-12-27T06:39:49.223Z"
   },
   {
    "duration": 64,
    "start_time": "2023-12-27T06:48:00.922Z"
   },
   {
    "duration": 785,
    "start_time": "2023-12-27T06:52:05.755Z"
   },
   {
    "duration": 135,
    "start_time": "2023-12-27T06:53:34.218Z"
   },
   {
    "duration": 842,
    "start_time": "2023-12-27T06:53:38.682Z"
   },
   {
    "duration": 764,
    "start_time": "2023-12-27T06:53:54.705Z"
   },
   {
    "duration": 360,
    "start_time": "2023-12-27T06:54:36.394Z"
   },
   {
    "duration": 368,
    "start_time": "2023-12-27T06:54:43.797Z"
   },
   {
    "duration": 451,
    "start_time": "2023-12-27T06:54:51.650Z"
   },
   {
    "duration": 378,
    "start_time": "2023-12-27T06:54:56.235Z"
   },
   {
    "duration": 393,
    "start_time": "2023-12-27T06:55:00.996Z"
   },
   {
    "duration": 351,
    "start_time": "2023-12-27T06:55:06.509Z"
   },
   {
    "duration": 358,
    "start_time": "2023-12-27T06:55:09.363Z"
   },
   {
    "duration": 455,
    "start_time": "2023-12-27T06:55:22.552Z"
   },
   {
    "duration": 804,
    "start_time": "2023-12-27T06:55:59.770Z"
   },
   {
    "duration": 66,
    "start_time": "2023-12-27T07:04:29.460Z"
   },
   {
    "duration": 43,
    "start_time": "2023-12-27T07:06:28.992Z"
   },
   {
    "duration": 445,
    "start_time": "2023-12-27T07:09:47.245Z"
   },
   {
    "duration": 463,
    "start_time": "2023-12-27T07:10:01.795Z"
   },
   {
    "duration": 51,
    "start_time": "2023-12-27T07:14:22.035Z"
   },
   {
    "duration": 474,
    "start_time": "2023-12-27T07:14:23.013Z"
   },
   {
    "duration": 40,
    "start_time": "2023-12-27T07:14:25.181Z"
   },
   {
    "duration": 537,
    "start_time": "2023-12-27T07:14:26.458Z"
   },
   {
    "duration": 40,
    "start_time": "2023-12-27T07:14:28.661Z"
   },
   {
    "duration": 422,
    "start_time": "2023-12-27T07:14:29.768Z"
   },
   {
    "duration": 7047,
    "start_time": "2023-12-27T07:17:54.904Z"
   },
   {
    "duration": 675,
    "start_time": "2023-12-27T07:19:01.622Z"
   },
   {
    "duration": 788,
    "start_time": "2023-12-27T07:19:21.585Z"
   },
   {
    "duration": 656,
    "start_time": "2023-12-27T07:19:25.694Z"
   },
   {
    "duration": 667,
    "start_time": "2023-12-27T07:20:58.299Z"
   },
   {
    "duration": 664,
    "start_time": "2023-12-27T07:21:03.398Z"
   },
   {
    "duration": 23,
    "start_time": "2023-12-27T07:48:07.788Z"
   },
   {
    "duration": 28,
    "start_time": "2023-12-27T07:48:13.347Z"
   },
   {
    "duration": 11,
    "start_time": "2023-12-27T07:54:03.853Z"
   },
   {
    "duration": 8,
    "start_time": "2023-12-27T07:54:18.597Z"
   },
   {
    "duration": 12,
    "start_time": "2023-12-27T07:54:27.289Z"
   },
   {
    "duration": 10,
    "start_time": "2023-12-27T07:54:40.843Z"
   },
   {
    "duration": 37,
    "start_time": "2023-12-27T07:55:38.718Z"
   },
   {
    "duration": 33,
    "start_time": "2023-12-27T07:56:03.242Z"
   },
   {
    "duration": 35,
    "start_time": "2023-12-27T07:56:26.849Z"
   },
   {
    "duration": 45,
    "start_time": "2023-12-27T07:57:51.324Z"
   },
   {
    "duration": 59,
    "start_time": "2023-12-27T07:58:02.216Z"
   },
   {
    "duration": 31,
    "start_time": "2023-12-27T07:58:09.368Z"
   },
   {
    "duration": 33,
    "start_time": "2023-12-27T07:58:44.658Z"
   },
   {
    "duration": 32,
    "start_time": "2023-12-27T07:58:56.313Z"
   },
   {
    "duration": 47,
    "start_time": "2023-12-27T07:59:06.830Z"
   },
   {
    "duration": 35,
    "start_time": "2023-12-27T07:59:15.877Z"
   },
   {
    "duration": 3,
    "start_time": "2023-12-27T08:07:49.291Z"
   },
   {
    "duration": 5775,
    "start_time": "2023-12-27T08:15:03.987Z"
   },
   {
    "duration": 4,
    "start_time": "2023-12-27T08:22:21.872Z"
   },
   {
    "duration": 64,
    "start_time": "2023-12-27T08:27:40.838Z"
   },
   {
    "duration": 7,
    "start_time": "2023-12-27T08:27:46.029Z"
   },
   {
    "duration": 45,
    "start_time": "2023-12-27T08:43:58.400Z"
   },
   {
    "duration": 19,
    "start_time": "2023-12-27T08:44:16.515Z"
   },
   {
    "duration": 11,
    "start_time": "2023-12-27T08:44:56.950Z"
   },
   {
    "duration": 4,
    "start_time": "2023-12-27T08:45:43.795Z"
   },
   {
    "duration": 549,
    "start_time": "2023-12-27T08:45:48.215Z"
   },
   {
    "duration": 62,
    "start_time": "2023-12-27T08:46:56.487Z"
   },
   {
    "duration": 178,
    "start_time": "2023-12-27T08:47:02.757Z"
   },
   {
    "duration": 237,
    "start_time": "2023-12-27T08:47:45.801Z"
   },
   {
    "duration": 59,
    "start_time": "2023-12-27T08:49:03.545Z"
   },
   {
    "duration": 144,
    "start_time": "2023-12-27T08:49:10.991Z"
   },
   {
    "duration": 268,
    "start_time": "2023-12-27T08:49:29.872Z"
   },
   {
    "duration": 10,
    "start_time": "2023-12-27T08:50:57.988Z"
   },
   {
    "duration": 10,
    "start_time": "2023-12-27T08:51:07.602Z"
   },
   {
    "duration": 15,
    "start_time": "2023-12-27T08:51:08.367Z"
   },
   {
    "duration": 41,
    "start_time": "2023-12-27T08:51:09.413Z"
   },
   {
    "duration": 14,
    "start_time": "2023-12-27T08:51:09.747Z"
   },
   {
    "duration": 43,
    "start_time": "2023-12-27T08:51:10.060Z"
   },
   {
    "duration": 6852,
    "start_time": "2023-12-27T08:51:37.054Z"
   },
   {
    "duration": 885,
    "start_time": "2023-12-27T08:51:43.909Z"
   },
   {
    "duration": 162,
    "start_time": "2023-12-27T08:51:44.796Z"
   },
   {
    "duration": 147,
    "start_time": "2023-12-27T08:51:44.959Z"
   },
   {
    "duration": 160,
    "start_time": "2023-12-27T08:51:45.109Z"
   },
   {
    "duration": 147,
    "start_time": "2023-12-27T08:51:45.271Z"
   },
   {
    "duration": 0,
    "start_time": "2023-12-27T08:51:45.421Z"
   },
   {
    "duration": 0,
    "start_time": "2023-12-27T08:51:45.422Z"
   },
   {
    "duration": 0,
    "start_time": "2023-12-27T08:51:45.431Z"
   },
   {
    "duration": 0,
    "start_time": "2023-12-27T08:51:45.432Z"
   },
   {
    "duration": 0,
    "start_time": "2023-12-27T08:51:45.433Z"
   },
   {
    "duration": 0,
    "start_time": "2023-12-27T08:51:45.434Z"
   },
   {
    "duration": 0,
    "start_time": "2023-12-27T08:51:45.435Z"
   },
   {
    "duration": 0,
    "start_time": "2023-12-27T08:51:45.436Z"
   },
   {
    "duration": 0,
    "start_time": "2023-12-27T08:51:45.437Z"
   },
   {
    "duration": 0,
    "start_time": "2023-12-27T08:51:45.439Z"
   },
   {
    "duration": 0,
    "start_time": "2023-12-27T08:51:45.440Z"
   },
   {
    "duration": 0,
    "start_time": "2023-12-27T08:51:45.441Z"
   },
   {
    "duration": 0,
    "start_time": "2023-12-27T08:51:45.442Z"
   },
   {
    "duration": 0,
    "start_time": "2023-12-27T08:51:45.443Z"
   },
   {
    "duration": 0,
    "start_time": "2023-12-27T08:51:45.444Z"
   },
   {
    "duration": 0,
    "start_time": "2023-12-27T08:51:45.445Z"
   },
   {
    "duration": 0,
    "start_time": "2023-12-27T08:51:45.446Z"
   },
   {
    "duration": 0,
    "start_time": "2023-12-27T08:51:45.447Z"
   },
   {
    "duration": 0,
    "start_time": "2023-12-27T08:51:45.448Z"
   },
   {
    "duration": 0,
    "start_time": "2023-12-27T08:51:45.449Z"
   },
   {
    "duration": 0,
    "start_time": "2023-12-27T08:51:45.450Z"
   },
   {
    "duration": 0,
    "start_time": "2023-12-27T08:51:45.451Z"
   },
   {
    "duration": 0,
    "start_time": "2023-12-27T08:51:45.452Z"
   },
   {
    "duration": 7278,
    "start_time": "2023-12-27T08:55:43.386Z"
   },
   {
    "duration": 961,
    "start_time": "2023-12-27T08:55:50.667Z"
   },
   {
    "duration": 176,
    "start_time": "2023-12-27T08:55:51.631Z"
   },
   {
    "duration": 188,
    "start_time": "2023-12-27T08:55:51.809Z"
   },
   {
    "duration": 177,
    "start_time": "2023-12-27T08:55:52.000Z"
   },
   {
    "duration": 172,
    "start_time": "2023-12-27T08:55:52.179Z"
   },
   {
    "duration": 164,
    "start_time": "2023-12-27T08:55:52.352Z"
   },
   {
    "duration": 195,
    "start_time": "2023-12-27T08:55:52.518Z"
   },
   {
    "duration": 842,
    "start_time": "2023-12-27T08:55:52.715Z"
   },
   {
    "duration": 425,
    "start_time": "2023-12-27T08:55:53.560Z"
   },
   {
    "duration": 488,
    "start_time": "2023-12-27T08:55:53.987Z"
   },
   {
    "duration": 819,
    "start_time": "2023-12-27T08:55:54.477Z"
   },
   {
    "duration": 60,
    "start_time": "2023-12-27T08:55:55.299Z"
   },
   {
    "duration": 468,
    "start_time": "2023-12-27T08:55:55.363Z"
   },
   {
    "duration": 41,
    "start_time": "2023-12-27T08:55:55.833Z"
   },
   {
    "duration": 456,
    "start_time": "2023-12-27T08:55:55.876Z"
   },
   {
    "duration": 42,
    "start_time": "2023-12-27T08:55:56.334Z"
   },
   {
    "duration": 593,
    "start_time": "2023-12-27T08:55:56.377Z"
   },
   {
    "duration": 675,
    "start_time": "2023-12-27T08:55:56.973Z"
   },
   {
    "duration": 721,
    "start_time": "2023-12-27T08:55:57.649Z"
   },
   {
    "duration": 654,
    "start_time": "2023-12-27T08:55:58.373Z"
   },
   {
    "duration": 8,
    "start_time": "2023-12-27T08:55:59.030Z"
   },
   {
    "duration": 40,
    "start_time": "2023-12-27T08:55:59.040Z"
   },
   {
    "duration": 8,
    "start_time": "2023-12-27T08:55:59.082Z"
   },
   {
    "duration": 61,
    "start_time": "2023-12-27T08:55:59.092Z"
   },
   {
    "duration": 8,
    "start_time": "2023-12-27T08:55:59.155Z"
   },
   {
    "duration": 60,
    "start_time": "2023-12-27T08:55:59.165Z"
   },
   {
    "duration": 4,
    "start_time": "2023-12-27T08:55:59.228Z"
   },
   {
    "duration": 601,
    "start_time": "2023-12-27T08:55:59.234Z"
   },
   {
    "duration": 610,
    "start_time": "2023-12-27T08:56:45.429Z"
   },
   {
    "duration": 618,
    "start_time": "2023-12-27T08:58:05.013Z"
   },
   {
    "duration": 537,
    "start_time": "2023-12-27T08:58:58.107Z"
   },
   {
    "duration": 529,
    "start_time": "2023-12-27T09:23:23.421Z"
   },
   {
    "duration": 139,
    "start_time": "2023-12-27T09:24:08.108Z"
   },
   {
    "duration": 5,
    "start_time": "2023-12-27T09:25:08.361Z"
   },
   {
    "duration": 8,
    "start_time": "2023-12-27T09:25:32.315Z"
   },
   {
    "duration": 15,
    "start_time": "2023-12-27T09:25:38.234Z"
   },
   {
    "duration": 6645,
    "start_time": "2023-12-27T09:26:51.363Z"
   },
   {
    "duration": 611,
    "start_time": "2023-12-27T09:29:01.029Z"
   },
   {
    "duration": 18,
    "start_time": "2023-12-27T09:32:19.180Z"
   },
   {
    "duration": 23,
    "start_time": "2023-12-27T09:34:55.326Z"
   },
   {
    "duration": 14,
    "start_time": "2023-12-27T09:35:38.055Z"
   },
   {
    "duration": 5,
    "start_time": "2023-12-27T09:36:04.271Z"
   },
   {
    "duration": 173,
    "start_time": "2023-12-27T09:38:47.281Z"
   },
   {
    "duration": 548,
    "start_time": "2023-12-27T09:41:14.092Z"
   },
   {
    "duration": 12,
    "start_time": "2023-12-27T09:48:14.659Z"
   },
   {
    "duration": 638,
    "start_time": "2023-12-27T09:49:08.701Z"
   },
   {
    "duration": 616,
    "start_time": "2023-12-27T09:49:36.729Z"
   },
   {
    "duration": 176,
    "start_time": "2023-12-27T09:49:52.963Z"
   },
   {
    "duration": 541,
    "start_time": "2023-12-27T09:50:02.999Z"
   },
   {
    "duration": 4,
    "start_time": "2023-12-27T11:02:01.367Z"
   },
   {
    "duration": 3,
    "start_time": "2023-12-27T11:03:59.629Z"
   },
   {
    "duration": 4,
    "start_time": "2023-12-27T11:04:06.612Z"
   },
   {
    "duration": 4,
    "start_time": "2023-12-27T11:52:45.566Z"
   },
   {
    "duration": 4,
    "start_time": "2023-12-27T11:52:55.948Z"
   },
   {
    "duration": 4,
    "start_time": "2023-12-27T11:53:13.016Z"
   },
   {
    "duration": 5,
    "start_time": "2023-12-27T11:53:46.590Z"
   },
   {
    "duration": 30,
    "start_time": "2023-12-27T12:05:50.518Z"
   },
   {
    "duration": 28,
    "start_time": "2023-12-27T12:06:11.185Z"
   },
   {
    "duration": 6,
    "start_time": "2023-12-27T12:13:37.351Z"
   },
   {
    "duration": 75,
    "start_time": "2023-12-27T12:13:38.578Z"
   },
   {
    "duration": 146,
    "start_time": "2023-12-27T12:14:25.789Z"
   },
   {
    "duration": 7504,
    "start_time": "2023-12-27T12:15:03.487Z"
   },
   {
    "duration": 1029,
    "start_time": "2023-12-27T12:15:10.994Z"
   },
   {
    "duration": 188,
    "start_time": "2023-12-27T12:15:12.025Z"
   },
   {
    "duration": 169,
    "start_time": "2023-12-27T12:15:12.215Z"
   },
   {
    "duration": 181,
    "start_time": "2023-12-27T12:15:12.387Z"
   },
   {
    "duration": 194,
    "start_time": "2023-12-27T12:15:12.571Z"
   },
   {
    "duration": 181,
    "start_time": "2023-12-27T12:15:12.767Z"
   },
   {
    "duration": 182,
    "start_time": "2023-12-27T12:15:12.950Z"
   },
   {
    "duration": 795,
    "start_time": "2023-12-27T12:15:13.142Z"
   },
   {
    "duration": 392,
    "start_time": "2023-12-27T12:15:13.942Z"
   },
   {
    "duration": 466,
    "start_time": "2023-12-27T12:15:14.343Z"
   },
   {
    "duration": 810,
    "start_time": "2023-12-27T12:15:14.810Z"
   },
   {
    "duration": 55,
    "start_time": "2023-12-27T12:15:15.622Z"
   },
   {
    "duration": 449,
    "start_time": "2023-12-27T12:15:15.680Z"
   },
   {
    "duration": 47,
    "start_time": "2023-12-27T12:15:16.130Z"
   },
   {
    "duration": 415,
    "start_time": "2023-12-27T12:15:16.178Z"
   },
   {
    "duration": 57,
    "start_time": "2023-12-27T12:15:16.596Z"
   },
   {
    "duration": 598,
    "start_time": "2023-12-27T12:15:16.655Z"
   },
   {
    "duration": 672,
    "start_time": "2023-12-27T12:15:17.256Z"
   },
   {
    "duration": 630,
    "start_time": "2023-12-27T12:15:17.931Z"
   },
   {
    "duration": 659,
    "start_time": "2023-12-27T12:15:18.563Z"
   },
   {
    "duration": 14,
    "start_time": "2023-12-27T12:15:19.224Z"
   },
   {
    "duration": 45,
    "start_time": "2023-12-27T12:15:19.243Z"
   },
   {
    "duration": 8,
    "start_time": "2023-12-27T12:15:19.289Z"
   },
   {
    "duration": 26,
    "start_time": "2023-12-27T12:15:19.299Z"
   },
   {
    "duration": 12,
    "start_time": "2023-12-27T12:15:19.335Z"
   },
   {
    "duration": 40,
    "start_time": "2023-12-27T12:15:19.349Z"
   },
   {
    "duration": 3,
    "start_time": "2023-12-27T12:15:19.392Z"
   },
   {
    "duration": 640,
    "start_time": "2023-12-27T12:15:19.397Z"
   },
   {
    "duration": 4,
    "start_time": "2023-12-27T12:15:20.047Z"
   },
   {
    "duration": 36,
    "start_time": "2023-12-27T12:15:20.053Z"
   },
   {
    "duration": 47,
    "start_time": "2023-12-27T12:15:20.091Z"
   },
   {
    "duration": 5,
    "start_time": "2023-12-27T12:31:32.418Z"
   },
   {
    "duration": 19,
    "start_time": "2023-12-27T12:42:53.467Z"
   },
   {
    "duration": 29,
    "start_time": "2023-12-27T12:42:59.820Z"
   },
   {
    "duration": 4,
    "start_time": "2023-12-27T12:45:34.355Z"
   },
   {
    "duration": 4,
    "start_time": "2023-12-27T12:48:53.410Z"
   },
   {
    "duration": 4,
    "start_time": "2023-12-27T12:53:11.134Z"
   },
   {
    "duration": 20,
    "start_time": "2023-12-27T12:55:49.488Z"
   },
   {
    "duration": 21,
    "start_time": "2023-12-27T12:56:09.571Z"
   },
   {
    "duration": 22,
    "start_time": "2023-12-27T13:04:20.445Z"
   },
   {
    "duration": 25,
    "start_time": "2023-12-27T13:04:43.869Z"
   },
   {
    "duration": 158,
    "start_time": "2023-12-27T13:05:47.527Z"
   },
   {
    "duration": 27,
    "start_time": "2023-12-27T13:06:10.042Z"
   },
   {
    "duration": 36,
    "start_time": "2023-12-27T13:07:39.212Z"
   },
   {
    "duration": 7183,
    "start_time": "2023-12-27T13:07:49.463Z"
   },
   {
    "duration": 926,
    "start_time": "2023-12-27T13:07:56.648Z"
   },
   {
    "duration": 188,
    "start_time": "2023-12-27T13:07:57.576Z"
   },
   {
    "duration": 158,
    "start_time": "2023-12-27T13:07:57.766Z"
   },
   {
    "duration": 162,
    "start_time": "2023-12-27T13:07:57.930Z"
   },
   {
    "duration": 196,
    "start_time": "2023-12-27T13:07:58.094Z"
   },
   {
    "duration": 180,
    "start_time": "2023-12-27T13:07:58.292Z"
   },
   {
    "duration": 190,
    "start_time": "2023-12-27T13:07:58.474Z"
   },
   {
    "duration": 802,
    "start_time": "2023-12-27T13:07:58.666Z"
   },
   {
    "duration": 403,
    "start_time": "2023-12-27T13:07:59.470Z"
   },
   {
    "duration": 497,
    "start_time": "2023-12-27T13:07:59.875Z"
   },
   {
    "duration": 820,
    "start_time": "2023-12-27T13:08:00.374Z"
   },
   {
    "duration": 58,
    "start_time": "2023-12-27T13:08:01.196Z"
   },
   {
    "duration": 517,
    "start_time": "2023-12-27T13:08:01.257Z"
   },
   {
    "duration": 39,
    "start_time": "2023-12-27T13:08:01.776Z"
   },
   {
    "duration": 420,
    "start_time": "2023-12-27T13:08:01.833Z"
   },
   {
    "duration": 37,
    "start_time": "2023-12-27T13:08:02.255Z"
   },
   {
    "duration": 679,
    "start_time": "2023-12-27T13:08:02.294Z"
   },
   {
    "duration": 680,
    "start_time": "2023-12-27T13:08:02.974Z"
   },
   {
    "duration": 701,
    "start_time": "2023-12-27T13:08:03.656Z"
   },
   {
    "duration": 658,
    "start_time": "2023-12-27T13:08:04.359Z"
   },
   {
    "duration": 19,
    "start_time": "2023-12-27T13:08:05.019Z"
   },
   {
    "duration": 41,
    "start_time": "2023-12-27T13:08:05.042Z"
   },
   {
    "duration": 9,
    "start_time": "2023-12-27T13:08:05.085Z"
   },
   {
    "duration": 91,
    "start_time": "2023-12-27T13:08:05.096Z"
   },
   {
    "duration": 10,
    "start_time": "2023-12-27T13:08:05.189Z"
   },
   {
    "duration": 51,
    "start_time": "2023-12-27T13:08:05.200Z"
   },
   {
    "duration": 7,
    "start_time": "2023-12-27T13:08:05.254Z"
   },
   {
    "duration": 579,
    "start_time": "2023-12-27T13:08:05.263Z"
   },
   {
    "duration": 7,
    "start_time": "2023-12-27T13:08:05.844Z"
   },
   {
    "duration": 91,
    "start_time": "2023-12-27T13:08:05.853Z"
   },
   {
    "duration": 27,
    "start_time": "2023-12-27T13:08:05.947Z"
   },
   {
    "duration": 4,
    "start_time": "2023-12-27T13:08:05.976Z"
   },
   {
    "duration": 33,
    "start_time": "2023-12-27T13:08:05.981Z"
   },
   {
    "duration": 46,
    "start_time": "2023-12-27T13:08:39.359Z"
   },
   {
    "duration": 34,
    "start_time": "2023-12-27T13:26:06.369Z"
   },
   {
    "duration": 122,
    "start_time": "2023-12-27T13:43:29.333Z"
   },
   {
    "duration": 3152,
    "start_time": "2023-12-27T13:43:43.441Z"
   },
   {
    "duration": 3281,
    "start_time": "2023-12-27T13:44:15.644Z"
   },
   {
    "duration": 3267,
    "start_time": "2023-12-27T13:44:53.527Z"
   },
   {
    "duration": 7,
    "start_time": "2023-12-27T13:48:50.081Z"
   },
   {
    "duration": 1088,
    "start_time": "2023-12-27T13:48:50.612Z"
   },
   {
    "duration": 6,
    "start_time": "2023-12-27T13:49:09.313Z"
   },
   {
    "duration": 1141,
    "start_time": "2023-12-27T14:00:51.221Z"
   },
   {
    "duration": 6,
    "start_time": "2023-12-27T14:01:41.014Z"
   },
   {
    "duration": 1077,
    "start_time": "2023-12-27T14:02:02.278Z"
   },
   {
    "duration": 1045,
    "start_time": "2023-12-27T14:02:31.361Z"
   },
   {
    "duration": 3151,
    "start_time": "2023-12-27T14:02:50.744Z"
   },
   {
    "duration": 3357,
    "start_time": "2023-12-27T14:03:28.591Z"
   },
   {
    "duration": 1074,
    "start_time": "2023-12-27T14:04:10.007Z"
   },
   {
    "duration": 3105,
    "start_time": "2023-12-27T14:04:31.031Z"
   },
   {
    "duration": 3374,
    "start_time": "2023-12-27T14:04:45.741Z"
   },
   {
    "duration": 8,
    "start_time": "2023-12-27T14:05:34.984Z"
   },
   {
    "duration": 3299,
    "start_time": "2023-12-27T14:05:36.450Z"
   },
   {
    "duration": 3162,
    "start_time": "2023-12-27T14:06:08.435Z"
   },
   {
    "duration": 6,
    "start_time": "2023-12-27T14:06:18.085Z"
   },
   {
    "duration": 3253,
    "start_time": "2023-12-27T14:06:18.593Z"
   },
   {
    "duration": 1031,
    "start_time": "2023-12-27T14:07:06.196Z"
   },
   {
    "duration": 1079,
    "start_time": "2023-12-27T14:07:36.202Z"
   },
   {
    "duration": 3192,
    "start_time": "2023-12-27T14:08:56.283Z"
   },
   {
    "duration": 7,
    "start_time": "2023-12-27T14:09:03.124Z"
   },
   {
    "duration": 3344,
    "start_time": "2023-12-27T14:09:03.427Z"
   },
   {
    "duration": 7,
    "start_time": "2023-12-27T14:09:42.291Z"
   },
   {
    "duration": 3260,
    "start_time": "2023-12-27T14:09:42.705Z"
   },
   {
    "duration": 66,
    "start_time": "2023-12-27T14:19:34.081Z"
   },
   {
    "duration": 161,
    "start_time": "2023-12-27T14:19:48.312Z"
   },
   {
    "duration": 149,
    "start_time": "2023-12-27T14:20:19.469Z"
   },
   {
    "duration": 170,
    "start_time": "2023-12-27T14:20:33.581Z"
   },
   {
    "duration": 163,
    "start_time": "2023-12-27T14:21:41.652Z"
   },
   {
    "duration": 21,
    "start_time": "2023-12-27T14:21:58.458Z"
   },
   {
    "duration": 162,
    "start_time": "2023-12-27T14:22:06.884Z"
   },
   {
    "duration": 198,
    "start_time": "2023-12-27T14:22:36.473Z"
   },
   {
    "duration": 57,
    "start_time": "2023-12-27T14:22:44.900Z"
   },
   {
    "duration": 162,
    "start_time": "2023-12-27T14:22:47.955Z"
   },
   {
    "duration": 273,
    "start_time": "2023-12-27T14:22:51.789Z"
   },
   {
    "duration": 156,
    "start_time": "2023-12-27T14:22:54.229Z"
   },
   {
    "duration": 162,
    "start_time": "2023-12-27T14:22:57.804Z"
   },
   {
    "duration": 162,
    "start_time": "2023-12-27T14:23:01.763Z"
   },
   {
    "duration": 146,
    "start_time": "2023-12-27T14:23:05.777Z"
   },
   {
    "duration": 143,
    "start_time": "2023-12-27T14:23:08.562Z"
   },
   {
    "duration": 143,
    "start_time": "2023-12-27T14:23:34.724Z"
   },
   {
    "duration": 201,
    "start_time": "2023-12-27T14:25:57.785Z"
   },
   {
    "duration": 858,
    "start_time": "2023-12-27T14:28:39.845Z"
   },
   {
    "duration": 24,
    "start_time": "2023-12-27T14:29:52.263Z"
   },
   {
    "duration": 161,
    "start_time": "2023-12-27T14:30:24.040Z"
   },
   {
    "duration": 210,
    "start_time": "2023-12-27T14:31:19.477Z"
   },
   {
    "duration": 184,
    "start_time": "2023-12-27T14:31:30.641Z"
   },
   {
    "duration": 170,
    "start_time": "2023-12-27T14:32:20.319Z"
   },
   {
    "duration": 172,
    "start_time": "2023-12-27T14:32:34.906Z"
   },
   {
    "duration": 187,
    "start_time": "2023-12-27T14:34:08.698Z"
   },
   {
    "duration": 186,
    "start_time": "2023-12-27T14:34:53.530Z"
   },
   {
    "duration": 289,
    "start_time": "2023-12-27T14:35:07.085Z"
   },
   {
    "duration": 177,
    "start_time": "2023-12-27T14:35:35.273Z"
   },
   {
    "duration": 7237,
    "start_time": "2023-12-27T15:01:17.481Z"
   },
   {
    "duration": 947,
    "start_time": "2023-12-27T15:01:24.721Z"
   },
   {
    "duration": 188,
    "start_time": "2023-12-27T15:01:25.670Z"
   },
   {
    "duration": 176,
    "start_time": "2023-12-27T15:01:25.860Z"
   },
   {
    "duration": 165,
    "start_time": "2023-12-27T15:01:26.039Z"
   },
   {
    "duration": 205,
    "start_time": "2023-12-27T15:01:26.206Z"
   },
   {
    "duration": 193,
    "start_time": "2023-12-27T15:01:26.413Z"
   },
   {
    "duration": 199,
    "start_time": "2023-12-27T15:01:26.608Z"
   },
   {
    "duration": 853,
    "start_time": "2023-12-27T15:01:26.809Z"
   },
   {
    "duration": 415,
    "start_time": "2023-12-27T15:01:27.665Z"
   },
   {
    "duration": 497,
    "start_time": "2023-12-27T15:01:28.082Z"
   },
   {
    "duration": 805,
    "start_time": "2023-12-27T15:01:28.580Z"
   },
   {
    "duration": 64,
    "start_time": "2023-12-27T15:01:29.387Z"
   },
   {
    "duration": 464,
    "start_time": "2023-12-27T15:01:29.453Z"
   },
   {
    "duration": 51,
    "start_time": "2023-12-27T15:01:29.919Z"
   },
   {
    "duration": 453,
    "start_time": "2023-12-27T15:01:29.972Z"
   },
   {
    "duration": 49,
    "start_time": "2023-12-27T15:01:30.427Z"
   },
   {
    "duration": 622,
    "start_time": "2023-12-27T15:01:30.477Z"
   },
   {
    "duration": 666,
    "start_time": "2023-12-27T15:01:31.100Z"
   },
   {
    "duration": 693,
    "start_time": "2023-12-27T15:01:31.768Z"
   },
   {
    "duration": 690,
    "start_time": "2023-12-27T15:01:32.463Z"
   },
   {
    "duration": 8,
    "start_time": "2023-12-27T15:01:33.155Z"
   },
   {
    "duration": 55,
    "start_time": "2023-12-27T15:01:33.165Z"
   },
   {
    "duration": 20,
    "start_time": "2023-12-27T15:01:33.222Z"
   },
   {
    "duration": 35,
    "start_time": "2023-12-27T15:01:33.250Z"
   },
   {
    "duration": 7,
    "start_time": "2023-12-27T15:01:33.287Z"
   },
   {
    "duration": 60,
    "start_time": "2023-12-27T15:01:33.296Z"
   },
   {
    "duration": 4,
    "start_time": "2023-12-27T15:01:33.361Z"
   },
   {
    "duration": 577,
    "start_time": "2023-12-27T15:01:33.368Z"
   },
   {
    "duration": 7,
    "start_time": "2023-12-27T15:01:33.947Z"
   },
   {
    "duration": 89,
    "start_time": "2023-12-27T15:01:33.956Z"
   },
   {
    "duration": 27,
    "start_time": "2023-12-27T15:01:34.046Z"
   },
   {
    "duration": 3,
    "start_time": "2023-12-27T15:01:34.075Z"
   },
   {
    "duration": 36,
    "start_time": "2023-12-27T15:01:34.080Z"
   },
   {
    "duration": 10,
    "start_time": "2023-12-27T15:01:34.132Z"
   },
   {
    "duration": 3091,
    "start_time": "2023-12-27T15:01:34.144Z"
   },
   {
    "duration": 208,
    "start_time": "2023-12-27T15:01:37.241Z"
   },
   {
    "duration": 187,
    "start_time": "2023-12-27T15:01:37.451Z"
   },
   {
    "duration": 5792,
    "start_time": "2023-12-27T15:01:54.009Z"
   },
   {
    "duration": 7092,
    "start_time": "2023-12-27T15:02:12.206Z"
   },
   {
    "duration": 978,
    "start_time": "2023-12-27T15:02:19.301Z"
   },
   {
    "duration": 186,
    "start_time": "2023-12-27T15:02:20.281Z"
   },
   {
    "duration": 165,
    "start_time": "2023-12-27T15:02:20.469Z"
   },
   {
    "duration": 171,
    "start_time": "2023-12-27T15:02:20.637Z"
   },
   {
    "duration": 206,
    "start_time": "2023-12-27T15:02:20.810Z"
   },
   {
    "duration": 200,
    "start_time": "2023-12-27T15:02:21.018Z"
   },
   {
    "duration": 211,
    "start_time": "2023-12-27T15:02:21.220Z"
   },
   {
    "duration": 880,
    "start_time": "2023-12-27T15:02:21.433Z"
   },
   {
    "duration": 382,
    "start_time": "2023-12-27T15:02:22.315Z"
   },
   {
    "duration": 473,
    "start_time": "2023-12-27T15:02:22.699Z"
   },
   {
    "duration": 795,
    "start_time": "2023-12-27T15:02:23.174Z"
   },
   {
    "duration": 64,
    "start_time": "2023-12-27T15:02:23.971Z"
   },
   {
    "duration": 464,
    "start_time": "2023-12-27T15:02:24.042Z"
   },
   {
    "duration": 52,
    "start_time": "2023-12-27T15:02:24.508Z"
   },
   {
    "duration": 433,
    "start_time": "2023-12-27T15:02:24.562Z"
   },
   {
    "duration": 49,
    "start_time": "2023-12-27T15:02:24.997Z"
   },
   {
    "duration": 611,
    "start_time": "2023-12-27T15:02:25.048Z"
   },
   {
    "duration": 461,
    "start_time": "2023-12-27T15:02:25.661Z"
   },
   {
    "duration": 0,
    "start_time": "2023-12-27T15:02:26.130Z"
   },
   {
    "duration": 0,
    "start_time": "2023-12-27T15:02:26.135Z"
   },
   {
    "duration": 0,
    "start_time": "2023-12-27T15:02:26.140Z"
   },
   {
    "duration": 0,
    "start_time": "2023-12-27T15:02:26.141Z"
   },
   {
    "duration": 0,
    "start_time": "2023-12-27T15:02:26.142Z"
   },
   {
    "duration": 0,
    "start_time": "2023-12-27T15:02:26.144Z"
   },
   {
    "duration": 0,
    "start_time": "2023-12-27T15:02:26.145Z"
   },
   {
    "duration": 0,
    "start_time": "2023-12-27T15:02:26.147Z"
   },
   {
    "duration": 0,
    "start_time": "2023-12-27T15:02:26.148Z"
   },
   {
    "duration": 0,
    "start_time": "2023-12-27T15:02:26.150Z"
   },
   {
    "duration": 0,
    "start_time": "2023-12-27T15:02:26.152Z"
   },
   {
    "duration": 0,
    "start_time": "2023-12-27T15:02:26.153Z"
   },
   {
    "duration": 0,
    "start_time": "2023-12-27T15:02:26.155Z"
   },
   {
    "duration": 0,
    "start_time": "2023-12-27T15:02:26.156Z"
   },
   {
    "duration": 0,
    "start_time": "2023-12-27T15:02:26.157Z"
   },
   {
    "duration": 0,
    "start_time": "2023-12-27T15:02:26.158Z"
   },
   {
    "duration": 0,
    "start_time": "2023-12-27T15:02:26.160Z"
   },
   {
    "duration": 0,
    "start_time": "2023-12-27T15:02:26.161Z"
   },
   {
    "duration": 0,
    "start_time": "2023-12-27T15:02:26.162Z"
   },
   {
    "duration": 7422,
    "start_time": "2023-12-27T15:03:20.880Z"
   },
   {
    "duration": 1019,
    "start_time": "2023-12-27T15:03:28.304Z"
   },
   {
    "duration": 182,
    "start_time": "2023-12-27T15:03:29.325Z"
   },
   {
    "duration": 178,
    "start_time": "2023-12-27T15:03:29.508Z"
   },
   {
    "duration": 190,
    "start_time": "2023-12-27T15:03:29.688Z"
   },
   {
    "duration": 203,
    "start_time": "2023-12-27T15:03:29.880Z"
   },
   {
    "duration": 197,
    "start_time": "2023-12-27T15:03:30.085Z"
   },
   {
    "duration": 187,
    "start_time": "2023-12-27T15:03:30.285Z"
   },
   {
    "duration": 849,
    "start_time": "2023-12-27T15:03:30.474Z"
   },
   {
    "duration": 414,
    "start_time": "2023-12-27T15:03:31.325Z"
   },
   {
    "duration": 500,
    "start_time": "2023-12-27T15:03:31.742Z"
   },
   {
    "duration": 846,
    "start_time": "2023-12-27T15:03:32.245Z"
   },
   {
    "duration": 43,
    "start_time": "2023-12-27T15:03:33.092Z"
   },
   {
    "duration": 472,
    "start_time": "2023-12-27T15:03:33.147Z"
   },
   {
    "duration": 47,
    "start_time": "2023-12-27T15:03:33.620Z"
   },
   {
    "duration": 469,
    "start_time": "2023-12-27T15:03:33.669Z"
   },
   {
    "duration": 41,
    "start_time": "2023-12-27T15:03:34.143Z"
   },
   {
    "duration": 604,
    "start_time": "2023-12-27T15:03:34.186Z"
   },
   {
    "duration": 676,
    "start_time": "2023-12-27T15:03:34.792Z"
   },
   {
    "duration": 676,
    "start_time": "2023-12-27T15:03:35.470Z"
   },
   {
    "duration": 665,
    "start_time": "2023-12-27T15:03:36.148Z"
   },
   {
    "duration": 16,
    "start_time": "2023-12-27T15:03:36.815Z"
   },
   {
    "duration": 44,
    "start_time": "2023-12-27T15:03:36.834Z"
   },
   {
    "duration": 8,
    "start_time": "2023-12-27T15:03:36.881Z"
   },
   {
    "duration": 54,
    "start_time": "2023-12-27T15:03:36.891Z"
   },
   {
    "duration": 9,
    "start_time": "2023-12-27T15:03:36.947Z"
   },
   {
    "duration": 55,
    "start_time": "2023-12-27T15:03:36.958Z"
   },
   {
    "duration": 3,
    "start_time": "2023-12-27T15:03:37.015Z"
   },
   {
    "duration": 616,
    "start_time": "2023-12-27T15:03:37.031Z"
   },
   {
    "duration": 92,
    "start_time": "2023-12-27T15:03:37.650Z"
   },
   {
    "duration": 7,
    "start_time": "2023-12-27T15:03:37.744Z"
   },
   {
    "duration": 23,
    "start_time": "2023-12-27T15:03:37.753Z"
   },
   {
    "duration": 6,
    "start_time": "2023-12-27T15:03:37.778Z"
   },
   {
    "duration": 90,
    "start_time": "2023-12-27T15:03:37.786Z"
   },
   {
    "duration": 7,
    "start_time": "2023-12-27T15:03:37.879Z"
   },
   {
    "duration": 3097,
    "start_time": "2023-12-27T15:03:37.888Z"
   },
   {
    "duration": 173,
    "start_time": "2023-12-27T15:03:40.987Z"
   },
   {
    "duration": 179,
    "start_time": "2023-12-27T15:03:41.162Z"
   },
   {
    "duration": 10879,
    "start_time": "2023-12-28T06:44:54.837Z"
   },
   {
    "duration": 1143,
    "start_time": "2023-12-28T06:45:05.718Z"
   },
   {
    "duration": 130,
    "start_time": "2023-12-28T06:45:06.862Z"
   },
   {
    "duration": 117,
    "start_time": "2023-12-28T06:45:06.994Z"
   },
   {
    "duration": 134,
    "start_time": "2023-12-28T06:45:07.113Z"
   },
   {
    "duration": 177,
    "start_time": "2023-12-28T06:45:07.248Z"
   },
   {
    "duration": 148,
    "start_time": "2023-12-28T06:45:07.426Z"
   },
   {
    "duration": 155,
    "start_time": "2023-12-28T06:45:07.576Z"
   },
   {
    "duration": 673,
    "start_time": "2023-12-28T06:45:07.733Z"
   },
   {
    "duration": 336,
    "start_time": "2023-12-28T06:45:08.409Z"
   },
   {
    "duration": 410,
    "start_time": "2023-12-28T06:45:08.747Z"
   },
   {
    "duration": 700,
    "start_time": "2023-12-28T06:45:09.159Z"
   },
   {
    "duration": 35,
    "start_time": "2023-12-28T06:45:09.864Z"
   },
   {
    "duration": 376,
    "start_time": "2023-12-28T06:45:09.901Z"
   },
   {
    "duration": 34,
    "start_time": "2023-12-28T06:45:10.279Z"
   },
   {
    "duration": 372,
    "start_time": "2023-12-28T06:45:10.314Z"
   },
   {
    "duration": 34,
    "start_time": "2023-12-28T06:45:10.688Z"
   },
   {
    "duration": 468,
    "start_time": "2023-12-28T06:45:10.723Z"
   },
   {
    "duration": 611,
    "start_time": "2023-12-28T06:45:11.193Z"
   },
   {
    "duration": 562,
    "start_time": "2023-12-28T06:45:11.806Z"
   },
   {
    "duration": 564,
    "start_time": "2023-12-28T06:45:12.369Z"
   },
   {
    "duration": 6,
    "start_time": "2023-12-28T06:45:12.935Z"
   },
   {
    "duration": 34,
    "start_time": "2023-12-28T06:45:12.943Z"
   },
   {
    "duration": 6,
    "start_time": "2023-12-28T06:45:12.978Z"
   },
   {
    "duration": 26,
    "start_time": "2023-12-28T06:45:12.985Z"
   },
   {
    "duration": 6,
    "start_time": "2023-12-28T06:45:13.013Z"
   },
   {
    "duration": 60,
    "start_time": "2023-12-28T06:45:13.021Z"
   },
   {
    "duration": 2,
    "start_time": "2023-12-28T06:45:13.084Z"
   },
   {
    "duration": 577,
    "start_time": "2023-12-28T06:45:13.088Z"
   },
   {
    "duration": 6,
    "start_time": "2023-12-28T06:45:13.670Z"
   },
   {
    "duration": 4,
    "start_time": "2023-12-28T06:45:13.767Z"
   },
   {
    "duration": 26,
    "start_time": "2023-12-28T06:45:13.772Z"
   },
   {
    "duration": 15,
    "start_time": "2023-12-28T06:45:13.800Z"
   },
   {
    "duration": 41,
    "start_time": "2023-12-28T06:45:13.817Z"
   },
   {
    "duration": 101,
    "start_time": "2023-12-28T06:45:13.859Z"
   },
   {
    "duration": 0,
    "start_time": "2023-12-28T06:45:13.965Z"
   },
   {
    "duration": 0,
    "start_time": "2023-12-28T06:45:13.966Z"
   },
   {
    "duration": 0,
    "start_time": "2023-12-28T06:45:13.967Z"
   },
   {
    "duration": 6,
    "start_time": "2023-12-28T06:45:37.199Z"
   },
   {
    "duration": 2661,
    "start_time": "2023-12-28T06:48:39.559Z"
   },
   {
    "duration": 2614,
    "start_time": "2023-12-28T06:49:15.745Z"
   },
   {
    "duration": 5,
    "start_time": "2023-12-28T06:49:23.577Z"
   },
   {
    "duration": 2541,
    "start_time": "2023-12-28T06:49:23.925Z"
   },
   {
    "duration": 6148,
    "start_time": "2023-12-28T06:55:34.722Z"
   },
   {
    "duration": 761,
    "start_time": "2023-12-28T06:55:40.872Z"
   },
   {
    "duration": 135,
    "start_time": "2023-12-28T06:55:41.634Z"
   },
   {
    "duration": 134,
    "start_time": "2023-12-28T06:55:41.770Z"
   },
   {
    "duration": 135,
    "start_time": "2023-12-28T06:55:41.906Z"
   },
   {
    "duration": 172,
    "start_time": "2023-12-28T06:55:42.043Z"
   },
   {
    "duration": 152,
    "start_time": "2023-12-28T06:55:42.217Z"
   },
   {
    "duration": 175,
    "start_time": "2023-12-28T06:55:42.370Z"
   },
   {
    "duration": 685,
    "start_time": "2023-12-28T06:55:42.547Z"
   },
   {
    "duration": 353,
    "start_time": "2023-12-28T06:55:43.233Z"
   },
   {
    "duration": 388,
    "start_time": "2023-12-28T06:55:43.588Z"
   },
   {
    "duration": 642,
    "start_time": "2023-12-28T06:55:43.978Z"
   },
   {
    "duration": 50,
    "start_time": "2023-12-28T06:55:44.622Z"
   },
   {
    "duration": 375,
    "start_time": "2023-12-28T06:55:44.676Z"
   },
   {
    "duration": 40,
    "start_time": "2023-12-28T06:55:45.052Z"
   },
   {
    "duration": 375,
    "start_time": "2023-12-28T06:55:45.093Z"
   },
   {
    "duration": 34,
    "start_time": "2023-12-28T06:55:45.469Z"
   },
   {
    "duration": 465,
    "start_time": "2023-12-28T06:55:45.504Z"
   },
   {
    "duration": 569,
    "start_time": "2023-12-28T06:55:45.971Z"
   },
   {
    "duration": 537,
    "start_time": "2023-12-28T06:55:46.541Z"
   },
   {
    "duration": 565,
    "start_time": "2023-12-28T06:55:47.079Z"
   },
   {
    "duration": 7,
    "start_time": "2023-12-28T06:55:47.645Z"
   },
   {
    "duration": 29,
    "start_time": "2023-12-28T06:55:47.665Z"
   },
   {
    "duration": 6,
    "start_time": "2023-12-28T06:55:47.695Z"
   },
   {
    "duration": 24,
    "start_time": "2023-12-28T06:55:47.703Z"
   },
   {
    "duration": 12,
    "start_time": "2023-12-28T06:55:47.728Z"
   },
   {
    "duration": 46,
    "start_time": "2023-12-28T06:55:47.742Z"
   },
   {
    "duration": 3,
    "start_time": "2023-12-28T06:55:47.789Z"
   },
   {
    "duration": 672,
    "start_time": "2023-12-28T06:55:47.794Z"
   },
   {
    "duration": 3,
    "start_time": "2023-12-28T06:55:48.468Z"
   },
   {
    "duration": 14,
    "start_time": "2023-12-28T06:55:48.472Z"
   },
   {
    "duration": 18,
    "start_time": "2023-12-28T06:55:48.488Z"
   },
   {
    "duration": 3,
    "start_time": "2023-12-28T06:55:48.507Z"
   },
   {
    "duration": 32,
    "start_time": "2023-12-28T06:55:48.511Z"
   },
   {
    "duration": 23,
    "start_time": "2023-12-28T06:55:48.545Z"
   },
   {
    "duration": 2570,
    "start_time": "2023-12-28T06:55:48.569Z"
   },
   {
    "duration": 129,
    "start_time": "2023-12-28T06:55:51.140Z"
   },
   {
    "duration": 150,
    "start_time": "2023-12-28T06:55:51.271Z"
   },
   {
    "duration": 8643,
    "start_time": "2023-12-28T07:01:31.444Z"
   },
   {
    "duration": 766,
    "start_time": "2023-12-28T07:01:40.088Z"
   },
   {
    "duration": 136,
    "start_time": "2023-12-28T07:01:40.856Z"
   },
   {
    "duration": 118,
    "start_time": "2023-12-28T07:01:40.994Z"
   },
   {
    "duration": 147,
    "start_time": "2023-12-28T07:01:41.113Z"
   },
   {
    "duration": 158,
    "start_time": "2023-12-28T07:01:41.265Z"
   },
   {
    "duration": 151,
    "start_time": "2023-12-28T07:01:41.424Z"
   },
   {
    "duration": 159,
    "start_time": "2023-12-28T07:01:41.577Z"
   },
   {
    "duration": 696,
    "start_time": "2023-12-28T07:01:41.738Z"
   },
   {
    "duration": 324,
    "start_time": "2023-12-28T07:01:42.437Z"
   },
   {
    "duration": 375,
    "start_time": "2023-12-28T07:01:42.764Z"
   },
   {
    "duration": 674,
    "start_time": "2023-12-28T07:01:43.141Z"
   },
   {
    "duration": 37,
    "start_time": "2023-12-28T07:01:43.817Z"
   },
   {
    "duration": 365,
    "start_time": "2023-12-28T07:01:43.865Z"
   },
   {
    "duration": 39,
    "start_time": "2023-12-28T07:01:44.232Z"
   },
   {
    "duration": 357,
    "start_time": "2023-12-28T07:01:44.273Z"
   },
   {
    "duration": 39,
    "start_time": "2023-12-28T07:01:44.632Z"
   },
   {
    "duration": 450,
    "start_time": "2023-12-28T07:01:44.672Z"
   },
   {
    "duration": 543,
    "start_time": "2023-12-28T07:01:45.124Z"
   },
   {
    "duration": 576,
    "start_time": "2023-12-28T07:01:45.669Z"
   },
   {
    "duration": 521,
    "start_time": "2023-12-28T07:01:46.246Z"
   },
   {
    "duration": 8,
    "start_time": "2023-12-28T07:01:46.769Z"
   },
   {
    "duration": 29,
    "start_time": "2023-12-28T07:01:46.779Z"
   },
   {
    "duration": 6,
    "start_time": "2023-12-28T07:01:46.810Z"
   },
   {
    "duration": 21,
    "start_time": "2023-12-28T07:01:46.818Z"
   },
   {
    "duration": 29,
    "start_time": "2023-12-28T07:01:46.840Z"
   },
   {
    "duration": 28,
    "start_time": "2023-12-28T07:01:46.870Z"
   },
   {
    "duration": 3,
    "start_time": "2023-12-28T07:01:46.901Z"
   },
   {
    "duration": 565,
    "start_time": "2023-12-28T07:01:46.905Z"
   },
   {
    "duration": 94,
    "start_time": "2023-12-28T07:01:47.471Z"
   },
   {
    "duration": 6,
    "start_time": "2023-12-28T07:01:47.567Z"
   },
   {
    "duration": 43,
    "start_time": "2023-12-28T07:01:47.574Z"
   },
   {
    "duration": 14,
    "start_time": "2023-12-28T07:01:47.618Z"
   },
   {
    "duration": 36,
    "start_time": "2023-12-28T07:01:47.633Z"
   },
   {
    "duration": 4,
    "start_time": "2023-12-28T07:01:47.671Z"
   },
   {
    "duration": 2695,
    "start_time": "2023-12-28T07:01:47.677Z"
   },
   {
    "duration": 132,
    "start_time": "2023-12-28T07:01:50.374Z"
   },
   {
    "duration": 142,
    "start_time": "2023-12-28T07:01:50.508Z"
   }
  ],
  "kernelspec": {
   "display_name": "Python 3 (ipykernel)",
   "language": "python",
   "name": "python3"
  },
  "language_info": {
   "codemirror_mode": {
    "name": "ipython",
    "version": 3
   },
   "file_extension": ".py",
   "mimetype": "text/x-python",
   "name": "python",
   "nbconvert_exporter": "python",
   "pygments_lexer": "ipython3",
   "version": "3.9.5"
  },
  "toc": {
   "base_numbering": 1,
   "nav_menu": {},
   "number_sections": true,
   "sideBar": true,
   "skip_h1_title": true,
   "title_cell": "Table of Contents",
   "title_sidebar": "Contents",
   "toc_cell": false,
   "toc_position": {},
   "toc_section_display": true,
   "toc_window_display": false
  }
 },
 "nbformat": 4,
 "nbformat_minor": 4
}
